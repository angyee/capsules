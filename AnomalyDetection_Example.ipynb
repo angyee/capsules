{
 "cells": [
  {
   "cell_type": "markdown",
   "metadata": {},
   "source": [
    "### Necessary imports"
   ]
  },
  {
   "cell_type": "code",
   "execution_count": 1,
   "metadata": {},
   "outputs": [],
   "source": [
    "import torch\n",
    "import numpy as np\n",
    "from torch import nn\n",
    "from time import time\n",
    "from capsules import *\n",
    "from torch.optim import Adam\n",
    "import torch.nn.functional as F\n",
    "import matplotlib.pyplot as plt\n",
    "from torch.autograd import Variable\n",
    "from sklearn.metrics import accuracy_score"
   ]
  },
  {
   "cell_type": "markdown",
   "metadata": {},
   "source": [
    "### Definition of CapsNet model"
   ]
  },
  {
   "cell_type": "code",
   "execution_count": 2,
   "metadata": {},
   "outputs": [],
   "source": [
    "class CapsNet4AD(nn.Module):\n",
    "    \n",
    "    def __init__(self):\n",
    "        super(CapsNet4AD, self).__init__()\n",
    "        self.conv = nn.Sequential(\n",
    "            nn.Conv2d(\n",
    "                in_channels=1,\n",
    "                out_channels=256,\n",
    "                kernel_size=9,\n",
    "                stride=1\n",
    "            ),\n",
    "            nn.ReLU(inplace=True)\n",
    "        )\n",
    "        self.primcaps = PrimaryCapsuleLayer()\n",
    "        self.digicaps = SecondaryCapsuleLayer(n_capsules=2)\n",
    "        self.decoder = RegularizingDecoder(dims=[32,512,1024,784])\n",
    "        \n",
    "    def forward(self, x):\n",
    "        \"\"\"Compute forward of capsules, get the longest vectors, reconstruct the pictures\"\"\"\n",
    "        u = self.conv(x)\n",
    "        u = self.primcaps(u)\n",
    "        internal = self.digicaps(u)\n",
    "        lengths = (internal**2).sum(dim=-1)**0.5\n",
    "        _, max_caps_index = lengths.max(dim=-1)\n",
    "        masked = Variable(torch.eye(2))\n",
    "        masked = masked.cuda() if torch.cuda.is_available() else masked\n",
    "        masked = masked.index_select(dim=0, index=max_caps_index)\n",
    "        reconstruction = self.decoder(\n",
    "            (internal*masked[:,:,None]).view(x.size(0), -1)\n",
    "        )\n",
    "        return(internal, reconstruction, lengths, max_caps_index)"
   ]
  },
  {
   "cell_type": "code",
   "execution_count": 3,
   "metadata": {},
   "outputs": [],
   "source": [
    "cn = CapsNet4AD().cuda()\n",
    "optimizer = Adam(cn.parameters())\n",
    "capsule_loss = CapsuleLoss(normal_class=0, only_normals=True).cuda()"
   ]
  },
  {
   "cell_type": "markdown",
   "metadata": {},
   "source": [
    "### Data processing"
   ]
  },
  {
   "cell_type": "code",
   "execution_count": 2,
   "metadata": {
    "scrolled": true
   },
   "outputs": [
    {
     "name": "stdout",
     "output_type": "stream",
     "text": [
      "~/HDD/works/Skoltech/CapsuleAD/src/capsules/python-mnist/data ~/HDD/works/Skoltech/CapsuleAD/src/capsules/python-mnist\n",
      "~/HDD/works/Skoltech/CapsuleAD/src/capsules/python-mnist\n"
     ]
    },
    {
     "name": "stderr",
     "output_type": "stream",
     "text": [
      "Cloning into 'python-mnist'...\n",
      "--2020-01-12 18:54:42--  http://yann.lecun.com/exdb/mnist/\n",
      "Resolving yann.lecun.com (yann.lecun.com)... 216.165.22.6\n",
      "Connecting to yann.lecun.com (yann.lecun.com)|216.165.22.6|:80... connected.\n",
      "HTTP request sent, awaiting response... 200 OK\n",
      "Length: 29170 (28K) [text/html]\n",
      "Saving to: ‘data/index.html.tmp’\n",
      "\n",
      "     0K .......... .......... ........                        100% 14,0M=0,002s\n",
      "\n",
      "2020-01-12 18:54:43 (14,0 MB/s) - ‘data/index.html.tmp’ saved [29170/29170]\n",
      "\n",
      "Loading robots.txt; please ignore errors.\n",
      "--2020-01-12 18:54:43--  http://yann.lecun.com/robots.txt\n",
      "Reusing existing connection to yann.lecun.com:80.\n",
      "HTTP request sent, awaiting response... 404 Not Found\n",
      "2020-01-12 18:54:43 ERROR 404: Not Found.\n",
      "\n",
      "Removing data/index.html.tmp since it should be rejected.\n",
      "\n",
      "--2020-01-12 18:54:43--  http://yann.lecun.com/\n",
      "Reusing existing connection to yann.lecun.com:80.\n",
      "HTTP request sent, awaiting response... 200 OK\n",
      "Length: 38324 (37K) [text/html]\n",
      "Saving to: ‘data/index.html.tmp’\n",
      "\n",
      "     0K .......... .......... .......... .......              100%  426K=0,09s\n",
      "\n",
      "2020-01-12 18:54:43 (426 KB/s) - ‘data/index.html.tmp’ saved [38324/38324]\n",
      "\n",
      "Removing data/index.html.tmp since it should be rejected.\n",
      "\n",
      "--2020-01-12 18:54:43--  http://yann.lecun.com/exdb/mnist/train-images-idx3-ubyte.gz\n",
      "Reusing existing connection to yann.lecun.com:80.\n",
      "HTTP request sent, awaiting response... 200 OK\n",
      "Length: 9912422 (9,5M) [application/x-gzip]\n",
      "Saving to: ‘data/train-images-idx3-ubyte.gz’\n",
      "\n",
      "     0K .......... .......... .......... .......... ..........  0% 9,73M 1s\n",
      "    50K .......... .......... .......... .......... ..........  1%  578K 9s\n",
      "   100K .......... .......... .......... .......... ..........  1%  721K 10s\n",
      "   150K .......... .......... .......... .......... ..........  2% 1,57M 9s\n",
      "   200K .......... .......... .......... .......... ..........  2% 1,95M 8s\n",
      "   250K .......... .......... .......... .......... ..........  3% 1,35M 8s\n",
      "   300K .......... .......... .......... .......... ..........  3% 3,82M 7s\n",
      "   350K .......... .......... .......... .......... ..........  4% 2,39M 7s\n",
      "   400K .......... .......... .......... .......... ..........  4% 2,53M 6s\n",
      "   450K .......... .......... .......... .......... ..........  5% 1,73M 6s\n",
      "   500K .......... .......... .......... .......... ..........  5%  484K 7s\n",
      "   550K .......... .......... .......... .......... ..........  6% 7,07M 7s\n",
      "   600K .......... .......... .......... .......... ..........  6% 3,39M 6s\n",
      "   650K .......... .......... .......... .......... ..........  7% 2,19M 6s\n",
      "   700K .......... .......... .......... .......... ..........  7% 2,52M 6s\n",
      "   750K .......... .......... .......... .......... ..........  8% 1,60M 6s\n",
      "   800K .......... .......... .......... .......... ..........  8% 1,64M 6s\n",
      "   850K .......... .......... .......... .......... ..........  9% 2,32M 6s\n",
      "   900K .......... .......... .......... .......... ..........  9% 2,60M 6s\n",
      "   950K .......... .......... .......... .......... .......... 10% 2,69M 5s\n",
      "  1000K .......... .......... .......... .......... .......... 10% 4,16M 5s\n",
      "  1050K .......... .......... .......... .......... .......... 11% 4,35M 5s\n",
      "  1100K .......... .......... .......... .......... .......... 11% 9,87M 5s\n",
      "  1150K .......... .......... .......... .......... .......... 12% 4,99M 5s\n",
      "  1200K .......... .......... .......... .......... .......... 12% 5,31M 4s\n",
      "  1250K .......... .......... .......... .......... .......... 13% 5,09M 4s\n",
      "  1300K .......... .......... .......... .......... .......... 13%  869K 5s\n",
      "  1350K .......... .......... .......... .......... .......... 14% 9,56M 4s\n",
      "  1400K .......... .......... .......... .......... .......... 14% 3,68M 4s\n",
      "  1450K .......... .......... .......... .......... .......... 15% 4,77M 4s\n",
      "  1500K .......... .......... .......... .......... .......... 16% 4,86M 4s\n",
      "  1550K .......... .......... .......... .......... .......... 16% 4,84M 4s\n",
      "  1600K .......... .......... .......... .......... .......... 17% 7,13M 4s\n",
      "  1650K .......... .......... .......... .......... .......... 17% 4,89M 4s\n",
      "  1700K .......... .......... .......... .......... .......... 18% 4,89M 4s\n",
      "  1750K .......... .......... .......... .......... .......... 18% 1,88M 4s\n",
      "  1800K .......... .......... .......... .......... .......... 19% 5,37M 4s\n",
      "  1850K .......... .......... .......... .......... .......... 19% 4,94M 3s\n",
      "  1900K .......... .......... .......... .......... .......... 20% 5,29M 3s\n",
      "  1950K .......... .......... .......... .......... .......... 20% 5,09M 3s\n",
      "  2000K .......... .......... .......... .......... .......... 21% 5,28M 3s\n",
      "  2050K .......... .......... .......... .......... .......... 21% 5,14M 3s\n",
      "  2100K .......... .......... .......... .......... .......... 22% 5,15M 3s\n",
      "  2150K .......... .......... .......... .......... .......... 22% 9,03M 3s\n",
      "  2200K .......... .......... .......... .......... .......... 23% 3,18M 3s\n",
      "  2250K .......... .......... .......... .......... .......... 23% 2,63M 3s\n",
      "  2300K .......... .......... .......... .......... .......... 24% 5,81M 3s\n",
      "  2350K .......... .......... .......... .......... .......... 24% 5,44M 3s\n",
      "  2400K .......... .......... .......... .......... .......... 25% 5,13M 3s\n",
      "  2450K .......... .......... .......... .......... .......... 25% 5,16M 3s\n",
      "  2500K .......... .......... .......... .......... .......... 26% 5,17M 3s\n",
      "  2550K .......... .......... .......... .......... .......... 26% 5,12M 3s\n",
      "  2600K .......... .......... .......... .......... .......... 27% 5,00M 3s\n",
      "  2650K .......... .......... .......... .......... .......... 27% 4,91M 3s\n",
      "  2700K .......... .......... .......... .......... .......... 28% 3,61M 3s\n",
      "  2750K .......... .......... .......... .......... .......... 28% 2,92M 3s\n",
      "  2800K .......... .......... .......... .......... .......... 29% 4,37M 3s\n",
      "  2850K .......... .......... .......... .......... .......... 29% 5,43M 2s\n",
      "  2900K .......... .......... .......... .......... .......... 30% 4,45M 2s\n",
      "  2950K .......... .......... .......... .......... .......... 30% 5,50M 2s\n",
      "  3000K .......... .......... .......... .......... .......... 31% 4,96M 2s\n",
      "  3050K .......... .......... .......... .......... .......... 32% 5,26M 2s\n",
      "  3100K .......... .......... .......... .......... .......... 32% 8,97M 2s\n",
      "  3150K .......... .......... .......... .......... .......... 33% 2,91M 2s\n",
      "  3200K .......... .......... .......... .......... .......... 33% 4,82M 2s\n",
      "  3250K .......... .......... .......... .......... .......... 34% 5,52M 2s\n",
      "  3300K .......... .......... .......... .......... .......... 34% 1,84M 2s\n",
      "  3350K .......... .......... .......... .......... .......... 35% 5,30M 2s\n",
      "  3400K .......... .......... .......... .......... .......... 35% 10,2M 2s\n",
      "  3450K .......... .......... .......... .......... .......... 36% 4,49M 2s\n",
      "  3500K .......... .......... .......... .......... .......... 36% 4,41M 2s\n",
      "  3550K .......... .......... .......... .......... .......... 37% 4,41M 2s\n",
      "  3600K .......... .......... .......... .......... .......... 37% 3,20M 2s\n",
      "  3650K .......... .......... .......... .......... .......... 38% 4,46M 2s\n",
      "  3700K .......... .......... .......... .......... .......... 38% 4,21M 2s\n",
      "  3750K .......... .......... .......... .......... .......... 39% 3,54M 2s\n",
      "  3800K .......... .......... .......... .......... .......... 39% 5,23M 2s\n",
      "  3850K .......... .......... .......... .......... .......... 40% 7,82M 2s\n",
      "  3900K .......... .......... .......... .......... .......... 40% 4,83M 2s\n",
      "  3950K .......... .......... .......... .......... .......... 41% 5,25M 2s\n",
      "  4000K .......... .......... .......... .......... .......... 41% 1,61M 2s\n",
      "  4050K .......... .......... .......... .......... .......... 42% 3,98M 2s\n",
      "  4100K .......... .......... .......... .......... .......... 42% 1,05M 2s\n",
      "  4150K .......... .......... .......... .......... .......... 43% 6,28M 2s\n",
      "  4200K .......... .......... .......... .......... .......... 43% 5,40M 2s\n",
      "  4250K .......... .......... .......... .......... .......... 44% 5,15M 2s\n",
      "  4300K .......... .......... .......... .......... .......... 44% 3,96M 2s\n",
      "  4350K .......... .......... .......... .......... .......... 45% 2,92M 2s\n",
      "  4400K .......... .......... .......... .......... .......... 45% 11,2M 2s\n",
      "  4450K .......... .......... .......... .......... .......... 46% 3,89M 2s\n",
      "  4500K .......... .......... .......... .......... .......... 47% 4,95M 2s\n",
      "  4550K .......... .......... .......... .......... .......... 47% 5,18M 2s\n",
      "  4600K .......... .......... .......... .......... .......... 48% 5,15M 2s\n",
      "  4650K .......... .......... .......... .......... .......... 48% 5,09M 2s\n",
      "  4700K .......... .......... .......... .......... .......... 49% 5,32M 2s\n",
      "  4750K .......... .......... .......... .......... .......... 49% 1,80M 2s\n",
      "  4800K .......... .......... .......... .......... .......... 50% 3,77M 2s\n",
      "  4850K .......... .......... .......... .......... .......... 50% 4,35M 2s\n",
      "  4900K .......... .......... .......... .......... .......... 51% 4,31M 2s\n",
      "  4950K .......... .......... .......... .......... .......... 51% 1,68M 2s\n",
      "  5000K .......... .......... .......... .......... .......... 52% 3,61M 1s\n",
      "  5050K .......... .......... .......... .......... .......... 52% 5,18M 1s\n",
      "  5100K .......... .......... .......... .......... .......... 53% 1,74M 1s\n",
      "  5150K .......... .......... .......... .......... .......... 53% 2,01M 1s\n",
      "  5200K .......... .......... .......... .......... .......... 54% 4,16M 1s\n",
      "  5250K .......... .......... .......... .......... .......... 54% 6,19M 1s\n",
      "  5300K .......... .......... .......... .......... .......... 55% 1,91M 1s\n",
      "  5350K .......... .......... .......... .......... .......... 55% 1,70M 1s\n",
      "  5400K .......... .......... .......... .......... .......... 56% 2,58M 1s\n",
      "  5450K .......... .......... .......... .......... .......... 56% 5,22M 1s\n",
      "  5500K .......... .......... .......... .......... .......... 57% 6,27M 1s\n",
      "  5550K .......... .......... .......... .......... .......... 57% 1,89M 1s\n",
      "  5600K .......... .......... .......... .......... .......... 58% 1,20M 1s\n",
      "  5650K .......... .......... .......... .......... .......... 58% 4,75M 1s\n",
      "  5700K .......... .......... .......... .......... .......... 59% 10,1M 1s\n",
      "  5750K .......... .......... .......... .......... .......... 59% 2,20M 1s\n",
      "  5800K .......... .......... .......... .......... .......... 60% 1,64M 1s\n",
      "  5850K .......... .......... .......... .......... .......... 60% 5,02M 1s\n",
      "  5900K .......... .......... .......... .......... .......... 61%  473K 1s\n",
      "  5950K .......... .......... .......... .......... .......... 61% 3,39M 1s\n",
      "  6000K .......... .......... .......... .......... .......... 62% 3,31M 1s\n",
      "  6050K .......... .......... .......... .......... .......... 63% 3,89M 1s\n",
      "  6100K .......... .......... .......... .......... .......... 63% 5,23M 1s\n",
      "  6150K .......... .......... .......... .......... .......... 64% 8,98M 1s\n",
      "  6200K .......... .......... .......... .......... .......... 64% 4,86M 1s\n",
      "  6250K .......... .......... .......... .......... .......... 65% 5,23M 1s\n",
      "  6300K .......... .......... .......... .......... .......... 65% 5,64M 1s\n",
      "  6350K .......... .......... .......... .......... .......... 66% 1,96M 1s\n",
      "  6400K .......... .......... .......... .......... .......... 66% 3,01M 1s\n",
      "  6450K .......... .......... .......... .......... .......... 67% 1,81M 1s\n",
      "  6500K .......... .......... .......... .......... .......... 67% 1,25M 1s\n",
      "  6550K .......... .......... .......... .......... .......... 68% 5,10M 1s\n",
      "  6600K .......... .......... .......... .......... .......... 68% 1,75M 1s\n",
      "  6650K .......... .......... .......... .......... .......... 69% 1,28M 1s\n",
      "  6700K .......... .......... .......... .......... .......... 69% 5,32M 1s\n",
      "  6750K .......... .......... .......... .......... .......... 70% 1,72M 1s\n",
      "  6800K .......... .......... .......... .......... .......... 70% 1,22M 1s\n",
      "  6850K .......... .......... .......... .......... .......... 71% 3,36M 1s\n",
      "  6900K .......... .......... .......... .......... .......... 71% 2,83M 1s\n",
      "  6950K .......... .......... .......... .......... .......... 72%  971K 1s\n",
      "  7000K .......... .......... .......... .......... .......... 72% 7,07M 1s\n",
      "  7050K .......... .......... .......... .......... .......... 73% 3,00M 1s\n",
      "  7100K .......... .......... .......... .......... .......... 73% 1,09M 1s\n",
      "  7150K .......... .......... .......... .......... .......... 74% 5,81M 1s\n",
      "  7200K .......... .......... .......... .......... .......... 74% 6,58M 1s\n",
      "  7250K .......... .......... .......... .......... .......... 75% 1,05M 1s\n",
      "  7300K .......... .......... .......... .......... .......... 75% 2,78M 1s\n",
      "  7350K .......... .......... .......... .......... .......... 76% 5,40M 1s\n",
      "  7400K .......... .......... .......... .......... .......... 76% 1,28M 1s\n",
      "  7450K .......... .......... .......... .......... .......... 77% 1,44M 1s\n",
      "  7500K .......... .......... .......... .......... .......... 77% 3,15M 1s\n",
      "  7550K .......... .......... .......... .......... .......... 78% 3,33M 1s\n",
      "  7600K .......... .......... .......... .......... .......... 79% 1,04M 1s\n",
      "  7650K .......... .......... .......... .......... .......... 79% 5,32M 1s\n",
      "  7700K .......... .......... .......... .......... .......... 80%  478K 1s\n",
      "  7750K .......... .......... .......... .......... .......... 80% 7,86M 1s\n",
      "  7800K .......... .......... .......... .......... .......... 81% 3,49M 1s\n",
      "  7850K .......... .......... .......... .......... .......... 81% 5,86M 1s\n",
      "  7900K .......... .......... .......... .......... .......... 82%  455K 1s\n",
      "  7950K .......... .......... .......... .......... .......... 82% 5,34M 1s\n",
      "  8000K .......... .......... .......... .......... .......... 83% 5,12M 1s\n",
      "  8050K .......... .......... .......... .......... .......... 83% 8,83M 1s\n",
      "  8100K .......... .......... .......... .......... .......... 84% 4,90M 1s\n",
      "  8150K .......... .......... .......... .......... .......... 84% 2,30M 1s\n",
      "  8200K .......... .......... .......... .......... .......... 85%  795K 1s\n",
      "  8250K .......... .......... .......... .......... .......... 85% 1,19M 1s\n",
      "  8300K .......... .......... .......... .......... .......... 86% 1,18M 1s\n",
      "  8350K .......... .......... .......... .......... .......... 86%  680K 1s\n",
      "  8400K .......... .......... .......... .......... .......... 87% 3,97M 0s\n",
      "  8450K .......... .......... .......... .......... .......... 87%  700K 0s\n",
      "  8500K .......... .......... .......... .......... .......... 88% 1,48M 0s\n",
      "  8550K .......... .......... .......... .......... .......... 88% 1,08M 0s\n",
      "  8600K .......... .......... .......... .......... .......... 89%  845K 0s\n",
      "  8650K .......... .......... .......... .......... .......... 89% 3,54M 0s\n",
      "  8700K .......... .......... .......... .......... .......... 90%  688K 0s\n",
      "  8750K .......... .......... .......... .......... .......... 90%  270K 0s\n",
      "  8800K .......... .......... .......... .......... .......... 91% 4,19M 0s\n",
      "  8850K .......... .......... .......... .......... .......... 91% 10,6M 0s\n",
      "  8900K .......... .......... .......... .......... .......... 92% 4,89M 0s\n",
      "  8950K .......... .......... .......... .......... .......... 92% 2,23M 0s\n",
      "  9000K .......... .......... .......... .......... .......... 93%  572K 0s\n",
      "  9050K .......... .......... .......... .......... .......... 94%  709K 0s\n",
      "  9100K .......... .......... .......... .......... .......... 94% 1,12M 0s\n",
      "  9150K .......... .......... .......... .......... .......... 95% 1,42M 0s\n",
      "  9200K .......... .......... .......... .......... .......... 95%  661K 0s\n",
      "  9250K .......... .......... .......... .......... .......... 96%  201K 0s\n",
      "  9300K .......... .......... .......... .......... .......... 96% 4,87M 0s\n",
      "  9350K .......... .......... .......... .......... .......... 97% 4,61M 0s\n",
      "  9400K .......... .......... .......... .......... .......... 97% 1,54M 0s\n",
      "  9450K .......... .......... .......... .......... .......... 98%  176K 0s\n",
      "  9500K .......... .......... .......... .......... .......... 98% 4,88M 0s\n",
      "  9550K .......... .......... .......... .......... .......... 99% 6,04M 0s\n",
      "  9600K .......... .......... .......... .......... .......... 99%  611K 0s\n",
      "  9650K .......... .......... ..........                      100%  416K=4,9s\n",
      "\n",
      "2020-01-12 18:54:49 (1,92 MB/s) - ‘data/train-images-idx3-ubyte.gz’ saved [9912422/9912422]\n",
      "\n",
      "--2020-01-12 18:54:49--  http://yann.lecun.com/exdb/mnist/train-labels-idx1-ubyte.gz\n",
      "Reusing existing connection to yann.lecun.com:80.\n",
      "HTTP request sent, awaiting response... 200 OK\n",
      "Length: 28881 (28K) [application/x-gzip]\n",
      "Saving to: ‘data/train-labels-idx1-ubyte.gz’\n",
      "\n",
      "     0K .......... .......... ........                        100% 6,34M=0,004s\n",
      "\n",
      "2020-01-12 18:54:49 (6,34 MB/s) - ‘data/train-labels-idx1-ubyte.gz’ saved [28881/28881]\n",
      "\n",
      "--2020-01-12 18:54:49--  http://yann.lecun.com/exdb/mnist/t10k-images-idx3-ubyte.gz\n",
      "Reusing existing connection to yann.lecun.com:80.\n",
      "HTTP request sent, awaiting response... 200 OK\n",
      "Length: 1648877 (1,6M) [application/x-gzip]\n",
      "Saving to: ‘data/t10k-images-idx3-ubyte.gz’\n",
      "\n",
      "     0K .......... .......... .......... .......... ..........  3%  223K 7s\n",
      "    50K .......... .......... .......... .......... ..........  6% 4,36M 4s\n",
      "   100K .......... .......... .......... .......... ..........  9%  348K 4s\n",
      "   150K .......... .......... .......... .......... .......... 12%  328K 4s\n",
      "   200K .......... .......... .......... .......... .......... 15%  537K 3s\n",
      "   250K .......... .......... .......... .......... .......... 18%  336K 3s\n",
      "   300K .......... .......... .......... .......... .......... 21%  329K 3s\n",
      "   350K .......... .......... .......... .......... .......... 24%  561K 3s\n",
      "   400K .......... .......... .......... .......... .......... 27%  349K 3s\n",
      "   450K .......... .......... .......... .......... .......... 31%  626K 3s\n",
      "   500K .......... .......... .......... .......... .......... 34%  337K 3s\n",
      "   550K .......... .......... .......... .......... .......... 37%  624K 2s\n",
      "   600K .......... .......... .......... .......... .......... 40%  321K 2s\n",
      "   650K .......... .......... .......... .......... .......... 43%  615K 2s\n",
      "   700K .......... .......... .......... .......... .......... 46%  629K 2s\n",
      "   750K .......... .......... .......... .......... .......... 49%  355K 2s\n",
      "   800K .......... .......... .......... .......... .......... 52%  615K 2s\n",
      "   850K .......... .......... .......... .......... .......... 55%  476K 2s\n",
      "   900K .......... .......... .......... .......... .......... 58%  848K 2s\n",
      "   950K .......... .......... .......... .......... .......... 62%  369K 1s\n",
      "  1000K .......... .......... .......... .......... .......... 65%  629K 1s\n",
      "  1050K .......... .......... .......... .......... .......... 68%  565K 1s\n",
      "  1100K .......... .......... .......... .......... .......... 71%  633K 1s\n",
      "  1150K .......... .......... .......... .......... .......... 74%  728K 1s\n",
      "  1200K .......... .......... .......... .......... .......... 77%  600K 1s\n",
      "  1250K .......... .......... .......... .......... .......... 80%  648K 1s\n",
      "  1300K .......... .......... .......... .......... .......... 83%  575K 1s\n",
      "  1350K .......... .......... .......... .......... .......... 86%  505K 0s\n",
      "  1400K .......... .......... .......... .......... .......... 90%  662K 0s\n",
      "  1450K .......... .......... .......... .......... .......... 93%  667K 0s\n",
      "  1500K .......... .......... .......... .......... .......... 96%  652K 0s\n",
      "  1550K .......... .......... .......... .......... .......... 99%  624K 0s\n",
      "  1600K ..........                                            100% 2,56M=3,3s\n",
      "\n",
      "2020-01-12 18:54:52 (491 KB/s) - ‘data/t10k-images-idx3-ubyte.gz’ saved [1648877/1648877]\n",
      "\n",
      "--2020-01-12 18:54:52--  http://yann.lecun.com/exdb/mnist/t10k-labels-idx1-ubyte.gz\n",
      "Reusing existing connection to yann.lecun.com:80.\n",
      "HTTP request sent, awaiting response... 200 OK\n",
      "Length: 4542 (4,4K) [application/x-gzip]\n",
      "Saving to: ‘data/t10k-labels-idx1-ubyte.gz’\n",
      "\n",
      "     0K ....                                                  100% 3,17M=0,001s\n",
      "\n",
      "2020-01-12 18:54:52 (3,17 MB/s) - ‘data/t10k-labels-idx1-ubyte.gz’ saved [4542/4542]\n",
      "\n",
      "FINISHED --2020-01-12 18:54:52--\n",
      "Total wall clock time: 10s\n",
      "Downloaded: 6 files, 11M in 8,3s (1,34 MB/s)\n"
     ]
    }
   ],
   "source": [
    "%%bash\n",
    "git clone https://github.com/sorki/python-mnist.git\n",
    "cd python-mnist/\n",
    "./get_data.sh"
   ]
  },
  {
   "cell_type": "code",
   "execution_count": 3,
   "metadata": {},
   "outputs": [],
   "source": [
    "from mnist import MNIST\n",
    "mndata = MNIST('./python-mnist/data')\n",
    "images, labels = mndata.load_training()\n",
    "test_img, test_lab = mndata.load_testing()"
   ]
  },
  {
   "cell_type": "code",
   "execution_count": 6,
   "metadata": {},
   "outputs": [],
   "source": [
    "images = np.array(images)\n",
    "labels = np.array(labels)\n",
    "test_img = np.array(test_img)\n",
    "test_lab = np.array(test_lab)"
   ]
  },
  {
   "cell_type": "code",
   "execution_count": 7,
   "metadata": {},
   "outputs": [],
   "source": [
    "def iterate_minibatches(X, y, batchsize):\n",
    "    indices = np.random.permutation(np.arange(len(X)))\n",
    "    for start in range(0, len(indices), batchsize):\n",
    "        ix = indices[start: start + batchsize]\n",
    "        yield X[ix], y[ix]"
   ]
  },
  {
   "cell_type": "code",
   "execution_count": 8,
   "metadata": {},
   "outputs": [
    {
     "data": {
      "text/plain": [
       "(array([0, 1, 2, 3, 4, 5, 6, 7, 8, 9], dtype=uint8),\n",
       " array([5923, 6742, 5958, 6131, 5842, 5421, 5918, 6265, 5851, 5949]))"
      ]
     },
     "execution_count": 8,
     "metadata": {},
     "output_type": "execute_result"
    }
   ],
   "source": [
    "np.unique(labels, return_counts=True)"
   ]
  },
  {
   "cell_type": "code",
   "execution_count": 9,
   "metadata": {},
   "outputs": [],
   "source": [
    "normal = images[labels == 0]\n",
    "anomaly_index = np.random.choice(np.arange(images[labels != 0].shape[0]), 100)\n",
    "anomaly = images[labels != 0][anomaly_index]\n",
    "anomaly_labels = labels[labels != 0][anomaly_index]\n",
    "anomaly_labels[anomaly_labels != 0] = 1"
   ]
  },
  {
   "cell_type": "code",
   "execution_count": 10,
   "metadata": {},
   "outputs": [
    {
     "data": {
      "text/plain": [
       "((5923, 784), (100, 784))"
      ]
     },
     "execution_count": 10,
     "metadata": {},
     "output_type": "execute_result"
    }
   ],
   "source": [
    "normal.shape, anomaly.shape"
   ]
  },
  {
   "cell_type": "code",
   "execution_count": 11,
   "metadata": {},
   "outputs": [
    {
     "data": {
      "text/plain": [
       "0.016603021749958494"
      ]
     },
     "execution_count": 11,
     "metadata": {},
     "output_type": "execute_result"
    }
   ],
   "source": [
    "anomaly.shape[0]/(normal.shape[0]+anomaly.shape[0])"
   ]
  },
  {
   "cell_type": "code",
   "execution_count": 12,
   "metadata": {},
   "outputs": [],
   "source": [
    "normal_labels = np.array([0]*normal.shape[0])"
   ]
  },
  {
   "cell_type": "code",
   "execution_count": 13,
   "metadata": {},
   "outputs": [],
   "source": [
    "AD_data = np.concatenate([normal, anomaly])\n",
    "AD_labels = np.concatenate([normal_labels, anomaly_labels])"
   ]
  },
  {
   "cell_type": "code",
   "execution_count": 14,
   "metadata": {},
   "outputs": [
    {
     "data": {
      "text/plain": [
       "(array([0, 1]), array([5923,  100]))"
      ]
     },
     "execution_count": 14,
     "metadata": {},
     "output_type": "execute_result"
    }
   ],
   "source": [
    "np.unique(AD_labels, return_counts=True)"
   ]
  },
  {
   "cell_type": "code",
   "execution_count": 15,
   "metadata": {},
   "outputs": [],
   "source": [
    "test_lab_AD = test_lab.copy()\n",
    "test_lab_AD[test_lab_AD != 0] = 1"
   ]
  },
  {
   "cell_type": "markdown",
   "metadata": {},
   "source": [
    "### Training"
   ]
  },
  {
   "cell_type": "code",
   "execution_count": 16,
   "metadata": {},
   "outputs": [],
   "source": [
    "n_epochs = 10"
   ]
  },
  {
   "cell_type": "code",
   "execution_count": 17,
   "metadata": {
    "scrolled": true
   },
   "outputs": [
    {
     "name": "stdout",
     "output_type": "stream",
     "text": [
      "Epoch #0\n",
      "Minibatch 0 of 60\n",
      "Training loss: 0.05982053\n",
      "Training accuracy: 0.9821311475409836\n",
      "Training in 0th epoch took 0.1209627111752828 minutes\n",
      "Testing minibatch 0 of 100\n",
      "Testing loss: 1.8966882\n",
      "Testing accuracy: 0.7476999999999999\n",
      "0th epoch took 0.1739330291748047 minutes\n",
      "Epoch #1\n",
      "Minibatch 0 of 60\n",
      "Training loss: 0.028806008\n",
      "Training accuracy: 0.9960655737704918\n",
      "Training in 1th epoch took 0.11844486395517985 minutes\n",
      "Testing minibatch 0 of 100\n",
      "Testing loss: 1.6234992\n",
      "Testing accuracy: 0.8042\n",
      "1th epoch took 0.17403475443522134 minutes\n",
      "Epoch #2\n",
      "Minibatch 0 of 60\n",
      "Training loss: 0.02561273\n",
      "Training accuracy: 0.9985245901639344\n",
      "Training in 2th epoch took 0.1209207018216451 minutes\n",
      "Testing minibatch 0 of 100\n",
      "Testing loss: 0.92616844\n",
      "Testing accuracy: 0.8887000000000002\n",
      "2th epoch took 0.17616461118062338 minutes\n",
      "Epoch #3\n",
      "Minibatch 0 of 60\n",
      "Training loss: 0.021233315\n",
      "Training accuracy: 0.9990163934426229\n",
      "Training in 3th epoch took 0.11721510887145996 minutes\n",
      "Testing minibatch 0 of 100\n",
      "Testing loss: 1.0107127\n",
      "Testing accuracy: 0.8842000000000002\n",
      "3th epoch took 0.17009698152542113 minutes\n",
      "Epoch #4\n",
      "Minibatch 0 of 60\n",
      "Training loss: 0.019177921\n",
      "Training accuracy: 0.999672131147541\n",
      "Training in 4th epoch took 0.11660701831181844 minutes\n",
      "Testing minibatch 0 of 100\n",
      "Testing loss: 1.5886848\n",
      "Testing accuracy: 0.8271\n",
      "4th epoch took 0.16954650084177653 minutes\n",
      "Epoch #5\n",
      "Minibatch 0 of 60\n",
      "Training loss: 0.016714908\n",
      "Training accuracy: 0.999672131147541\n",
      "Training in 5th epoch took 0.11653008063634236 minutes\n",
      "Testing minibatch 0 of 100\n",
      "Testing loss: 0.911883\n",
      "Testing accuracy: 0.8906999999999999\n",
      "5th epoch took 0.16952114105224608 minutes\n",
      "Epoch #6\n",
      "Minibatch 0 of 60\n",
      "Training loss: 0.014635311\n",
      "Training accuracy: 0.9998360655737705\n",
      "Training in 6th epoch took 0.11675163110097249 minutes\n",
      "Testing minibatch 0 of 100\n",
      "Testing loss: 0.78644395\n",
      "Testing accuracy: 0.9187000000000001\n",
      "6th epoch took 0.16974103450775146 minutes\n",
      "Epoch #7\n",
      "Minibatch 0 of 60\n",
      "Training loss: 0.013809799\n",
      "Training accuracy: 1.0\n",
      "Training in 7th epoch took 0.11664460897445679 minutes\n",
      "Testing minibatch 0 of 100\n",
      "Testing loss: 0.7021798\n",
      "Testing accuracy: 0.919\n",
      "7th epoch took 0.1699722687403361 minutes\n",
      "Epoch #8\n",
      "Minibatch 0 of 60\n",
      "Training loss: 0.012459532\n",
      "Training accuracy: 1.0\n",
      "Training in 8th epoch took 0.12030838330586752 minutes\n",
      "Testing minibatch 0 of 100\n",
      "Testing loss: 0.7912544\n",
      "Testing accuracy: 0.9029\n",
      "8th epoch took 0.17556281089782716 minutes\n",
      "Epoch #9\n",
      "Minibatch 0 of 60\n",
      "Training loss: 0.011036114\n",
      "Training accuracy: 1.0\n",
      "Training in 9th epoch took 0.11928513844807943 minutes\n",
      "Testing minibatch 0 of 100\n",
      "Testing loss: 0.8738194\n",
      "Testing accuracy: 0.8974000000000001\n",
      "9th epoch took 0.17459917465845745 minutes\n",
      "All epochs took 1.7232161283493042 minutes\n"
     ]
    }
   ],
   "source": [
    "training_loss = []\n",
    "training_accuracy = []\n",
    "testing_loss = []\n",
    "testing_accuracy = []\n",
    "start_time = time()\n",
    "for epoch in range(n_epochs):\n",
    "    print(\"Epoch #\"+str(epoch))\n",
    "    cn.train()\n",
    "    running_loss = []\n",
    "    running_accuracy = []\n",
    "    i = 0\n",
    "    epoch_time = time()\n",
    "    for batch_X, batch_y in iterate_minibatches(AD_data, AD_labels, 100):\n",
    "        if i % 100 == 0:\n",
    "            print(\"Minibatch \"+str(i)+\" of \"+str(round(AD_data.shape[0]/100)))\n",
    "        i += 1\n",
    "        optimizer.zero_grad()\n",
    "        inp = Variable(\n",
    "            torch.from_numpy(\n",
    "                batch_X.reshape(batch_X.shape[0],1,28,28)/255.0\n",
    "            ).type(torch.FloatTensor)\n",
    "        ).cuda()\n",
    "        real_class = Variable(\n",
    "            make_y(torch.from_numpy(batch_y).type(torch.LongTensor).cuda(), 2)\n",
    "        )\n",
    "        internal, reconstruction, classes, max_index = cn(inp)\n",
    "        loss = capsule_loss(\n",
    "            real_class, inp.view(inp.size(0), 28*28), classes, reconstruction\n",
    "        )\n",
    "        loss.backward()\n",
    "        optimizer.step()\n",
    "        running_loss.append(loss.cpu().data.numpy())\n",
    "        running_accuracy.append(\n",
    "            accuracy_score(max_index.cpu().data.numpy(), batch_y)\n",
    "        )\n",
    "    training_loss.append(np.mean(running_loss))\n",
    "    training_accuracy.append(np.mean(running_accuracy))\n",
    "    print(\"Training loss: \"+str(training_loss[-1]))\n",
    "    print(\"Training accuracy: \"+str(training_accuracy[-1]))\n",
    "    print(\"Training in \"+str(epoch)+\"th epoch took \"+str((time() - epoch_time)/60) + \" minutes\")\n",
    "    cn.eval()\n",
    "    running_test_loss = []\n",
    "    running_test_accuracy = []\n",
    "    i = 0\n",
    "    for batch_X, batch_y in iterate_minibatches(test_img, test_lab_AD, 100):\n",
    "        if i % 100 == 0:\n",
    "            print(\"Testing minibatch \"+str(i)+\" of \"+str(round(test_img.shape[0]/100)))\n",
    "        i += 1\n",
    "        test_X = Variable(\n",
    "            torch.from_numpy(batch_X.reshape(batch_X.shape[0],1,28,28)/255.0).type(torch.FloatTensor)\n",
    "        ).cuda()\n",
    "        test_Y = Variable(\n",
    "            make_y(torch.from_numpy(batch_y).type(torch.LongTensor).cuda(), 2)\n",
    "        )\n",
    "        test_internal, test_reconstruction, test_classes, test_ind = cn(test_X)\n",
    "        #test_classes = test_classes.type(torch.cuda.FloatTensor)\n",
    "        running_test_loss.append(\n",
    "            capsule_loss(\n",
    "                test_Y, test_X.reshape(test_X.size(0), 28*28), \n",
    "                test_classes, test_reconstruction\n",
    "            ).cpu().data.numpy()\n",
    "        )\n",
    "        running_test_accuracy.append(\n",
    "            accuracy_score(test_ind.cpu().data.numpy(), batch_y)\n",
    "        )\n",
    "    testing_loss.append(np.mean(running_test_loss))\n",
    "    testing_accuracy.append(np.mean(running_test_accuracy))\n",
    "    print(\"Testing loss: \"+str(testing_loss[-1]))\n",
    "    print(\"Testing accuracy: \"+str(testing_accuracy[-1]))\n",
    "    print(str(epoch)+\"th epoch took \"+str((time() - epoch_time)/60) + \" minutes\")\n",
    "print(\"All epochs took \"+str((time() - start_time)/60) + \" minutes\")"
   ]
  },
  {
   "cell_type": "code",
   "execution_count": 18,
   "metadata": {},
   "outputs": [
    {
     "data": {
      "text/plain": [
       "Text(0.5, 1.0, 'Accuracy')"
      ]
     },
     "execution_count": 18,
     "metadata": {},
     "output_type": "execute_result"
    },
    {
     "data": {
      "image/png": "[encoded data removed]",
      "text/plain": [
       "<Figure size 432x288 with 2 Axes>"
      ]
     },
     "metadata": {
      "needs_background": "light"
     },
     "output_type": "display_data"
    }
   ],
   "source": [
    "plt.subplot(1,2,1)\n",
    "plt.plot(training_loss)\n",
    "plt.plot(testing_loss)\n",
    "plt.grid(True)\n",
    "plt.title(\"Loss\")\n",
    "plt.subplot(1,2,2)\n",
    "plt.plot(training_accuracy)\n",
    "plt.plot(testing_accuracy)\n",
    "plt.grid(True)\n",
    "plt.title(\"Accuracy\")"
   ]
  },
  {
   "cell_type": "code",
   "execution_count": 19,
   "metadata": {},
   "outputs": [
    {
     "name": "stderr",
     "output_type": "stream",
     "text": [
      "/home/bakirillov/anaconda3/envs/lapki/lib/python3.7/site-packages/torch/serialization.py:256: UserWarning: Couldn't retrieve source code for container of type CapsNet4AD. It won't be checked for correctness upon loading.\n",
      "  \"type \" + obj.__name__ + \". It won't be checked \"\n"
     ]
    }
   ],
   "source": [
    "torch.save(cn, \"mnist_AD_capsule.ptch\")"
   ]
  },
  {
   "cell_type": "code",
   "execution_count": 20,
   "metadata": {},
   "outputs": [],
   "source": [
    "cn.eval()\n",
    "random_normal = test_img[test_lab_AD==0][\n",
    "    np.random.choice(range(test_img[test_lab_AD==0].shape[0]), 2)\n",
    "]\n",
    "random_anomaly = test_img[test_lab_AD==1][\n",
    "    np.random.choice(range(test_img[test_lab_AD==1].shape[0]), 2)\n",
    "]"
   ]
  },
  {
   "cell_type": "code",
   "execution_count": 21,
   "metadata": {},
   "outputs": [
    {
     "data": {
      "text/plain": [
       "<matplotlib.image.AxesImage at 0x7efda34d3d68>"
      ]
     },
     "execution_count": 21,
     "metadata": {},
     "output_type": "execute_result"
    },
    {
     "data": {
      "image/png": "[encoded data removed]",
      "text/plain": [
       "<Figure size 432x288 with 2 Axes>"
      ]
     },
     "metadata": {
      "needs_background": "light"
     },
     "output_type": "display_data"
    }
   ],
   "source": [
    "plt.subplot(1,2,1)\n",
    "plt.imshow(random_normal[0].reshape(28,28))\n",
    "plt.subplot(1,2,2)\n",
    "plt.imshow(random_normal[1].reshape(28,28))"
   ]
  },
  {
   "cell_type": "code",
   "execution_count": 22,
   "metadata": {},
   "outputs": [],
   "source": [
    "_,rec,_,cl = cn(Variable(torch.from_numpy(random_normal.reshape(2,1,28,28)/255).type(torch.FloatTensor)).cuda())"
   ]
  },
  {
   "cell_type": "code",
   "execution_count": 23,
   "metadata": {},
   "outputs": [
    {
     "data": {
      "text/plain": [
       "tensor([0, 0], device='cuda:0')"
      ]
     },
     "execution_count": 23,
     "metadata": {},
     "output_type": "execute_result"
    }
   ],
   "source": [
    "cl"
   ]
  },
  {
   "cell_type": "code",
   "execution_count": 24,
   "metadata": {},
   "outputs": [
    {
     "data": {
      "text/plain": [
       "<matplotlib.image.AxesImage at 0x7efdacc7a128>"
      ]
     },
     "execution_count": 24,
     "metadata": {},
     "output_type": "execute_result"
    },
    {
     "data": {
      "image/png": "[encoded data removed]",
      "text/plain": [
       "<Figure size 432x288 with 2 Axes>"
      ]
     },
     "metadata": {
      "needs_background": "light"
     },
     "output_type": "display_data"
    }
   ],
   "source": [
    "rec = rec.cpu().data.numpy()\n",
    "plt.subplot(1,2,1)\n",
    "plt.imshow(rec[0].reshape(28,28))\n",
    "plt.subplot(1,2,2)\n",
    "plt.imshow(rec[1].reshape(28,28))"
   ]
  },
  {
   "cell_type": "code",
   "execution_count": 25,
   "metadata": {},
   "outputs": [],
   "source": [
    "_,rec,_,cl = cn(Variable(torch.from_numpy(random_anomaly.reshape(2,1,28,28)/255).type(torch.FloatTensor)).cuda())"
   ]
  },
  {
   "cell_type": "code",
   "execution_count": 26,
   "metadata": {},
   "outputs": [
    {
     "data": {
      "text/plain": [
       "tensor([1, 1], device='cuda:0')"
      ]
     },
     "execution_count": 26,
     "metadata": {},
     "output_type": "execute_result"
    }
   ],
   "source": [
    "cl"
   ]
  },
  {
   "cell_type": "code",
   "execution_count": 27,
   "metadata": {},
   "outputs": [
    {
     "data": {
      "text/plain": [
       "<matplotlib.image.AxesImage at 0x7efdacb5d160>"
      ]
     },
     "execution_count": 27,
     "metadata": {},
     "output_type": "execute_result"
    },
    {
     "data": {
      "image/png": "[encoded data removed]",
      "text/plain": [
       "<Figure size 432x288 with 2 Axes>"
      ]
     },
     "metadata": {
      "needs_background": "light"
     },
     "output_type": "display_data"
    }
   ],
   "source": [
    "rec = rec.cpu().data.numpy()\n",
    "plt.subplot(1,2,1)\n",
    "plt.imshow(rec[0].reshape(28,28))\n",
    "plt.subplot(1,2,2)\n",
    "plt.imshow(rec[1].reshape(28,28))"
   ]
  },
  {
   "cell_type": "code",
   "execution_count": 28,
   "metadata": {},
   "outputs": [],
   "source": [
    "d_inds = np.random.choice(np.arange(test_lab.shape[0]), 100)\n",
    "d_imgs = test_img[d_inds]\n",
    "d_lab = test_lab[d_inds]"
   ]
  },
  {
   "cell_type": "code",
   "execution_count": 29,
   "metadata": {},
   "outputs": [
    {
     "data": {
      "text/plain": [
       "(array([0, 1, 2, 3, 4, 5, 6, 7, 8, 9], dtype=uint8),\n",
       " array([11, 10, 13,  5, 13,  5, 12, 11,  9, 11]))"
      ]
     },
     "execution_count": 29,
     "metadata": {},
     "output_type": "execute_result"
    }
   ],
   "source": [
    "np.unique(d_lab, return_counts=True)"
   ]
  },
  {
   "cell_type": "code",
   "execution_count": 30,
   "metadata": {},
   "outputs": [],
   "source": [
    "_,rec,lens,cl = cn(Variable(torch.from_numpy(d_imgs.reshape(100,1,28,28)/255).type(torch.FloatTensor)).cuda())"
   ]
  },
  {
   "cell_type": "code",
   "execution_count": 32,
   "metadata": {},
   "outputs": [
    {
     "data": {
      "text/plain": [
       "0.88"
      ]
     },
     "execution_count": 32,
     "metadata": {},
     "output_type": "execute_result"
    }
   ],
   "source": [
    "accuracy_score(test_lab_AD[d_inds], cl.cpu().data.numpy())"
   ]
  },
  {
   "cell_type": "code",
   "execution_count": 33,
   "metadata": {},
   "outputs": [],
   "source": [
    "ln_diff, rec_loss = anomaly_scores(\n",
    "    lens.cpu().data.numpy(), d_imgs, rec.cpu().data.numpy()\n",
    ")"
   ]
  },
  {
   "cell_type": "code",
   "execution_count": 34,
   "metadata": {},
   "outputs": [],
   "source": [
    "max_prob, norm_rec_loss = normality_scores(\n",
    "    lens.cpu().data.numpy(), d_imgs, rec.cpu().data.numpy()\n",
    ")"
   ]
  },
  {
   "cell_type": "code",
   "execution_count": 35,
   "metadata": {},
   "outputs": [
    {
     "data": {
      "image/png": "[encoded data removed]",
      "text/plain": [
       "<Figure size 432x288 with 2 Axes>"
      ]
     },
     "metadata": {
      "needs_background": "light"
     },
     "output_type": "display_data"
    }
   ],
   "source": [
    "plt.subplot(2,1,1)\n",
    "plt.hist(rec_loss[d_lab == 0], bins=100, color=(0,0,1,1))\n",
    "plt.hist(rec_loss[test_lab_AD[d_inds] == 1], bins=100, color=(1,0,0,0.2))\n",
    "plt.subplot(2,1,2)\n",
    "plt.hist(ln_diff[d_lab == 0], bins=100, color=(0,0,1,1))\n",
    "plt.hist(ln_diff[test_lab_AD[d_inds] == 1], bins=100, color=(1,0,0,0.2))\n",
    "plt.xlim((-1,1.5))\n",
    "plt.show()"
   ]
  },
  {
   "cell_type": "code",
   "execution_count": 36,
   "metadata": {},
   "outputs": [
    {
     "data": {
      "image/png": "[encoded data removed]",
      "text/plain": [
       "<Figure size 432x288 with 2 Axes>"
      ]
     },
     "metadata": {
      "needs_background": "light"
     },
     "output_type": "display_data"
    }
   ],
   "source": [
    "plt.subplot(2,1,1)\n",
    "plt.hist(max_prob[d_lab == 0], bins=100, color=(0,0,1,1))\n",
    "plt.hist(max_prob[test_lab_AD[d_inds] == 1], bins=100, color=(1,0,0,0.2))\n",
    "plt.subplot(2,1,2)\n",
    "plt.hist(norm_rec_loss[d_lab == 0], bins=100, color=(0,0,1,1))\n",
    "plt.hist(norm_rec_loss[test_lab_AD[d_inds] == 1], bins=100, color=(1,0,0,0.2))\n",
    "plt.show()"
   ]
  }
 ],
 "metadata": {
  "kernelspec": {
   "display_name": "Python 3",
   "language": "python",
   "name": "python3"
  },
  "language_info": {
   "codemirror_mode": {
    "name": "ipython",
    "version": 3
   },
   "file_extension": ".py",
   "mimetype": "text/x-python",
   "name": "python",
   "nbconvert_exporter": "python",
   "pygments_lexer": "ipython3",
   "version": "3.7.5"
  }
 },
 "nbformat": 4,
 "nbformat_minor": 2
}
