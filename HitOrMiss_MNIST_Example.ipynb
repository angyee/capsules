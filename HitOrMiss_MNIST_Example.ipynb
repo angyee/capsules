{
 "cells": [
  {
   "cell_type": "markdown",
   "metadata": {},
   "source": [
    "### Necessary imports"
   ]
  },
  {
   "cell_type": "code",
   "execution_count": 1,
   "metadata": {},
   "outputs": [],
   "source": [
    "import torch\n",
    "import numpy as np\n",
    "from torch import nn\n",
    "from time import time\n",
    "from capsules import *\n",
    "from torch.optim import Adam\n",
    "import torch.nn.functional as F\n",
    "import matplotlib.pyplot as plt\n",
    "from torch.autograd import Variable\n",
    "from sklearn.metrics import accuracy_score"
   ]
  },
  {
   "cell_type": "markdown",
   "metadata": {},
   "source": [
    "### Definition of CapsNet model"
   ]
  },
  {
   "cell_type": "code",
   "execution_count": 2,
   "metadata": {},
   "outputs": [],
   "source": [
    "class HitNet4MNIST(nn.Module):\n",
    "    \n",
    "    def __init__(self):\n",
    "        super(HitNet4MNIST, self).__init__()\n",
    "        self.conv = nn.Sequential(\n",
    "            nn.Conv2d(\n",
    "                in_channels=1,\n",
    "                out_channels=256,\n",
    "                kernel_size=9,\n",
    "                stride=1\n",
    "            ),\n",
    "            nn.ReLU(inplace=True),\n",
    "            nn.Conv2d(\n",
    "                in_channels=256,\n",
    "                out_channels=256,\n",
    "                kernel_size=9,\n",
    "                stride=2\n",
    "            ),\n",
    "            nn.ReLU(inplace=True)\n",
    "        )\n",
    "        self.hom = HitOrMissLayer()\n",
    "        self.decoder = RegularizingDecoder([32*10,512,1024,784])\n",
    "        \n",
    "    def forward(self, x):\n",
    "        preprocessed = self.conv(x)\n",
    "        hom = self.hom(preprocessed)\n",
    "        internal = 0.5-hom\n",
    "        lengths = (internal**2).sum(dim=-1)**0.5\n",
    "        _, max_caps_index = lengths.max(dim=-1)\n",
    "        masked_internal = mask_hom(hom, max_caps_index.type(torch.FloatTensor))\n",
    "        reconstructions = self.decoder(\n",
    "            masked_internal.reshape(masked_internal.shape[0], -1)\n",
    "        )\n",
    "        return(internal, lengths, reconstructions)"
   ]
  },
  {
   "cell_type": "code",
   "execution_count": 3,
   "metadata": {},
   "outputs": [],
   "source": [
    "cn = HitNet4MNIST().cuda()\n",
    "optimizer = Adam(cn.parameters())\n",
    "capsule_loss = CentripetalLoss(caps_dimension=32).cuda()"
   ]
  },
  {
   "cell_type": "markdown",
   "metadata": {},
   "source": [
    "### Data processing"
   ]
  },
  {
   "cell_type": "code",
   "execution_count": 4,
   "metadata": {},
   "outputs": [
    {
     "name": "stdout",
     "output_type": "stream",
     "text": [
      "~/HDD/works/OpenSource/capsules/python-mnist/data ~/HDD/works/OpenSource/capsules/python-mnist\n",
      "~/HDD/works/OpenSource/capsules/python-mnist\n"
     ]
    },
    {
     "name": "stderr",
     "output_type": "stream",
     "text": [
      "Cloning into 'python-mnist'...\n",
      "--2019-10-10 12:33:11--  http://yann.lecun.com/exdb/mnist/\n",
      "Resolving yann.lecun.com (yann.lecun.com)... 216.165.22.6\n",
      "Connecting to yann.lecun.com (yann.lecun.com)|216.165.22.6|:80... connected.\n",
      "HTTP request sent, awaiting response... 200 OK\n",
      "Length: 29170 (28K) [text/html]\n",
      "Saving to: ‘data/index.html.tmp’\n",
      "\n",
      "     0K .......... .......... ........                        100%  221K=0.1s\n",
      "\n",
      "2019-10-10 12:33:12 (221 KB/s) - ‘data/index.html.tmp’ saved [29170/29170]\n",
      "\n",
      "Loading robots.txt; please ignore errors.\n",
      "--2019-10-10 12:33:12--  http://yann.lecun.com/robots.txt\n",
      "Reusing existing connection to yann.lecun.com:80.\n",
      "HTTP request sent, awaiting response... 404 Not Found\n",
      "2019-10-10 12:33:12 ERROR 404: Not Found.\n",
      "\n",
      "Removing data/index.html.tmp since it should be rejected.\n",
      "\n",
      "--2019-10-10 12:33:12--  http://yann.lecun.com/\n",
      "Reusing existing connection to yann.lecun.com:80.\n",
      "HTTP request sent, awaiting response... 200 OK\n",
      "Length: 38324 (37K) [text/html]\n",
      "Saving to: ‘data/index.html.tmp’\n",
      "\n",
      "     0K .......... .......... .......... .......              100% 5.19M=0.007s\n",
      "\n",
      "2019-10-10 12:33:12 (5.19 MB/s) - ‘data/index.html.tmp’ saved [38324/38324]\n",
      "\n",
      "Removing data/index.html.tmp since it should be rejected.\n",
      "\n",
      "--2019-10-10 12:33:12--  http://yann.lecun.com/exdb/mnist/train-images-idx3-ubyte.gz\n",
      "Reusing existing connection to yann.lecun.com:80.\n",
      "HTTP request sent, awaiting response... 200 OK\n",
      "Length: 9912422 (9.5M) [application/x-gzip]\n",
      "Saving to: ‘data/train-images-idx3-ubyte.gz’\n",
      "\n",
      "     0K .......... .......... .......... .......... ..........  0% 21.4M 0s\n",
      "    50K .......... .......... .......... .......... ..........  1%  241K 20s\n",
      "   100K .......... .......... .......... .......... ..........  1% 19.2M 13s\n",
      "   150K .......... .......... .......... .......... ..........  2%  242K 20s\n",
      "   200K .......... .......... .......... .......... ..........  2% 20.8M 16s\n",
      "   250K .......... .......... .......... .......... ..........  3%  401K 17s\n",
      "   300K .......... .......... .......... .......... ..........  3% 14.4M 15s\n",
      "   350K .......... .......... .......... .......... ..........  4%  407K 16s\n",
      "   400K .......... .......... .......... .......... ..........  4% 9.49M 14s\n",
      "   450K .......... .......... .......... .......... ..........  5%  425K 15s\n",
      "   500K .......... .......... .......... .......... ..........  5% 6.22M 13s\n",
      "   550K .......... .......... .......... .......... ..........  6% 4.52M 12s\n",
      "   600K .......... .......... .......... .......... ..........  6%  444K 13s\n",
      "   650K .......... .......... .......... .......... ..........  7% 9.03M 12s\n",
      "   700K .......... .......... .......... .......... ..........  7%  431K 12s\n",
      "   750K .......... .......... .......... .......... ..........  8% 7.02M 12s\n",
      "   800K .......... .......... .......... .......... ..........  8% 4.02M 11s\n",
      "   850K .......... .......... .......... .......... ..........  9%  457K 11s\n",
      "   900K .......... .......... .......... .......... ..........  9% 5.37M 11s\n",
      "   950K .......... .......... .......... .......... .......... 10% 5.46M 10s\n",
      "  1000K .......... .......... .......... .......... .......... 10%  460K 11s\n",
      "  1050K .......... .......... .......... .......... .......... 11% 5.16M 10s\n",
      "  1100K .......... .......... .......... .......... .......... 11% 1.47M 10s\n",
      "  1150K .......... .......... .......... .......... .......... 12%  563K 10s\n",
      "  1200K .......... .......... .......... .......... .......... 12% 9.82M 10s\n",
      "  1250K .......... .......... .......... .......... .......... 13% 6.30M 9s\n",
      "  1300K .......... .......... .......... .......... .......... 13%  394K 10s\n",
      "  1350K .......... .......... .......... .......... .......... 14% 27.9M 9s\n",
      "  1400K .......... .......... .......... .......... .......... 14% 18.2M 9s\n",
      "  1450K .......... .......... .......... .......... .......... 15%  457K 9s\n",
      "  1500K .......... .......... .......... .......... .......... 16% 2.79M 9s\n",
      "  1550K .......... .......... .......... .......... .......... 16% 21.0M 9s\n",
      "  1600K .......... .......... .......... .......... .......... 17%  506K 9s\n",
      "  1650K .......... .......... .......... .......... .......... 17% 1.41M 9s\n",
      "  1700K .......... .......... .......... .......... .......... 18% 38.6M 8s\n",
      "  1750K .......... .......... .......... .......... .......... 18% 4.46M 8s\n",
      "  1800K .......... .......... .......... .......... .......... 19%  554K 8s\n",
      "  1850K .......... .......... .......... .......... .......... 19% 1.84M 8s\n",
      "  1900K .......... .......... .......... .......... .......... 20% 7.48M 8s\n",
      "  1950K .......... .......... .......... .......... .......... 20%  562K 8s\n",
      "  2000K .......... .......... .......... .......... .......... 21% 1.78M 8s\n",
      "  2050K .......... .......... .......... .......... .......... 21% 11.6M 8s\n",
      "  2100K .......... .......... .......... .......... .......... 22% 5.96M 7s\n",
      "  2150K .......... .......... .......... .......... .......... 22%  571K 7s\n",
      "  2200K .......... .......... .......... .......... .......... 23% 1.92M 7s\n",
      "  2250K .......... .......... .......... .......... .......... 23% 10.5M 7s\n",
      "  2300K .......... .......... .......... .......... .......... 24% 5.26M 7s\n",
      "  2350K .......... .......... .......... .......... .......... 24%  580K 7s\n",
      "  2400K .......... .......... .......... .......... .......... 25% 1.95M 7s\n",
      "  2450K .......... .......... .......... .......... .......... 25% 8.40M 7s\n",
      "  2500K .......... .......... .......... .......... .......... 26% 5.37M 7s\n",
      "  2550K .......... .......... .......... .......... .......... 26% 1.40M 7s\n",
      "  2600K .......... .......... .......... .......... .......... 27%  924K 6s\n",
      "  2650K .......... .......... .......... .......... .......... 27% 1.96M 6s\n",
      "  2700K .......... .......... .......... .......... .......... 28% 6.12M 6s\n",
      "  2750K .......... .......... .......... .......... .......... 28% 7.93M 6s\n",
      "  2800K .......... .......... .......... .......... .......... 29%  585K 6s\n",
      "  2850K .......... .......... .......... .......... .......... 29% 2.14M 6s\n",
      "  2900K .......... .......... .......... .......... .......... 30% 6.21M 6s\n",
      "  2950K .......... .......... .......... .......... .......... 30% 8.13M 6s\n",
      "  3000K .......... .......... .......... .......... .......... 31% 4.45M 6s\n",
      "  3050K .......... .......... .......... .......... .......... 32%  626K 6s\n",
      "  3100K .......... .......... .......... .......... .......... 32% 2.01M 6s\n",
      "  3150K .......... .......... .......... .......... .......... 33% 7.57M 6s\n",
      "  3200K .......... .......... .......... .......... .......... 33% 7.07M 5s\n",
      "  3250K .......... .......... .......... .......... .......... 34% 6.49M 5s\n",
      "  3300K .......... .......... .......... .......... .......... 34%  616K 5s\n",
      "  3350K .......... .......... .......... .......... .......... 35% 1.99M 5s\n",
      "  3400K .......... .......... .......... .......... .......... 35% 7.54M 5s\n",
      "  3450K .......... .......... .......... .......... .......... 36% 12.7M 5s\n",
      "  3500K .......... .......... .......... .......... .......... 36% 7.15M 5s\n",
      "  3550K .......... .......... .......... .......... .......... 37%  622K 5s\n",
      "  3600K .......... .......... .......... .......... .......... 37% 2.14M 5s\n",
      "  3650K .......... .......... .......... .......... .......... 38% 5.09M 5s\n",
      "  3700K .......... .......... .......... .......... .......... 38% 6.50M 5s\n",
      "  3750K .......... .......... .......... .......... .......... 39% 13.0M 5s\n",
      "  3800K .......... .......... .......... .......... .......... 39%  626K 5s\n",
      "  3850K .......... .......... .......... .......... .......... 40% 6.92M 5s\n",
      "  3900K .......... .......... .......... .......... .......... 40% 1.91M 5s\n",
      "  3950K .......... .......... .......... .......... .......... 41% 7.93M 4s\n",
      "  4000K .......... .......... .......... .......... .......... 41% 9.50M 4s\n",
      "  4050K .......... .......... .......... .......... .......... 42% 7.99M 4s\n",
      "  4100K .......... .......... .......... .......... .......... 42%  646K 4s\n",
      "  4150K .......... .......... .......... .......... .......... 43% 1.71M 4s\n",
      "  4200K .......... .......... .......... .......... .......... 43% 12.8M 4s\n",
      "  4250K .......... .......... .......... .......... .......... 44% 11.2M 4s\n",
      "  4300K .......... .......... .......... .......... .......... 44% 5.44M 4s\n",
      "  4350K .......... .......... .......... .......... .......... 45% 16.5M 4s\n",
      "  4400K .......... .......... .......... .......... .......... 45%  652K 4s\n",
      "  4450K .......... .......... .......... .......... .......... 46% 1.86M 4s\n",
      "  4500K .......... .......... .......... .......... .......... 47% 7.80M 4s\n",
      "  4550K .......... .......... .......... .......... .......... 47% 9.51M 4s\n",
      "  4600K .......... .......... .......... .......... .......... 48% 4.35M 4s\n",
      "  4650K .......... .......... .......... .......... .......... 48% 30.6M 4s\n",
      "  4700K .......... .......... .......... .......... .......... 49%  729K 4s\n",
      "  4750K .......... .......... .......... .......... .......... 49% 3.37M 4s\n",
      "  4800K .......... .......... .......... .......... .......... 50%  408K 4s\n",
      "  4850K .......... .......... .......... .......... .......... 50% 51.2M 3s\n",
      "  4900K .......... .......... .......... .......... .......... 51% 83.3M 3s\n",
      "  4950K .......... .......... .......... .......... .......... 51% 28.8M 3s\n",
      "  5000K .......... .......... .......... .......... .......... 52% 25.7M 3s\n",
      "  5050K .......... .......... .......... .......... .......... 52% 20.6M 3s\n",
      "  5100K .......... .......... .......... .......... .......... 53%  255K 3s\n",
      "  5150K .......... .......... .......... .......... .......... 53% 22.9M 3s\n",
      "  5200K .......... .......... .......... .......... .......... 54% 23.9M 3s\n",
      "  5250K .......... .......... .......... .......... .......... 54%  247K 3s\n",
      "  5300K .......... .......... .......... .......... .......... 55% 33.0M 3s\n",
      "  5350K .......... .......... .......... .......... .......... 55% 61.6M 3s\n",
      "  5400K .......... .......... .......... .......... .......... 56%  243K 3s\n",
      "  5450K .......... .......... .......... .......... .......... 56% 26.2M 3s\n",
      "  5500K .......... .......... .......... .......... .......... 57% 51.8M 3s\n",
      "  5550K .......... .......... .......... .......... .......... 57% 63.5M 3s\n",
      "  5600K .......... .......... .......... .......... .......... 58%  353K 3s\n",
      "  5650K .......... .......... .......... .......... .......... 58%  443K 3s\n",
      "  5700K .......... .......... .......... .......... .......... 59% 1.67M 3s\n",
      "  5750K .......... .......... .......... .......... .......... 59%  107M 3s\n",
      "  5800K .......... .......... .......... .......... .......... 60%  421K 3s\n",
      "  5850K .......... .......... .......... .......... .......... 60% 10.1M 3s\n",
      "  5900K .......... .......... .......... .......... .......... 61% 16.3M 3s\n",
      "  5950K .......... .......... .......... .......... .......... 61% 3.68M 3s\n",
      "  6000K .......... .......... .......... .......... .......... 62%  466K 3s\n",
      "  6050K .......... .......... .......... .......... .......... 63% 8.28M 3s\n",
      "  6100K .......... .......... .......... .......... .......... 63% 3.76M 3s\n",
      "  6150K .......... .......... .......... .......... .......... 64%  409K 3s\n",
      "  6200K .......... .......... .......... .......... .......... 64% 8.67M 3s\n",
      "  6250K .......... .......... .......... .......... .......... 65% 33.0M 3s\n",
      "  6300K .......... .......... .......... .......... .......... 65%  389K 3s\n",
      "  6350K .......... .......... .......... .......... .......... 66% 32.1M 3s\n",
      "  6400K .......... .......... .......... .......... .......... 66% 37.3M 3s\n",
      "  6450K .......... .......... .......... .......... .......... 67%  213K 3s\n",
      "  6500K .......... .......... .......... .......... .......... 67% 19.1M 3s\n",
      "  6550K .......... .......... .......... .......... .......... 68% 19.4M 2s\n",
      "  6600K .......... .......... .......... .......... .......... 68% 19.7M 2s\n",
      "  6650K .......... .......... .......... .......... .......... 69%  194K 2s\n",
      "  6700K .......... .......... .......... .......... .......... 69% 83.3M 2s\n",
      "  6750K .......... .......... .......... .......... .......... 70% 96.1M 2s\n",
      "  6800K .......... .......... .......... .......... .......... 70%  113M 2s\n",
      "  6850K .......... .......... .......... .......... .......... 71% 5.85M 2s\n",
      "  6900K .......... .......... .......... .......... .......... 71%  462K 2s\n",
      "  6950K .......... .......... .......... .......... .......... 72% 4.58M 2s\n",
      "  7000K .......... .......... .......... .......... .......... 72% 5.91M 2s\n",
      "  7050K .......... .......... .......... .......... .......... 73%  461K 2s\n",
      "  7100K .......... .......... .......... .......... .......... 73% 4.90M 2s\n",
      "  7150K .......... .......... .......... .......... .......... 74% 5.07M 2s\n",
      "  7200K .......... .......... .......... .......... .......... 74%  451K 2s\n",
      "  7250K .......... .......... .......... .......... .......... 75% 4.46M 2s\n",
      "  7300K .......... .......... .......... .......... .......... 75%  481K 2s\n",
      "  7350K .......... .......... .......... .......... .......... 76% 3.59M 2s\n",
      "  7400K .......... .......... .......... .......... .......... 76% 5.97M 2s\n",
      "  7450K .......... .......... .......... .......... .......... 77%  463K 2s\n",
      "  7500K .......... .......... .......... .......... .......... 77% 5.39M 2s\n",
      "  7550K .......... .......... .......... .......... .......... 78% 6.02M 2s\n",
      "  7600K .......... .......... .......... .......... .......... 79%  462K 2s\n",
      "  7650K .......... .......... .......... .......... .......... 79% 3.93M 2s\n",
      "  7700K .......... .......... .......... .......... .......... 80% 6.54M 2s\n",
      "  7750K .......... .......... .......... .......... .......... 80%  470K 2s\n",
      "  7800K .......... .......... .......... .......... .......... 81% 4.27M 1s\n",
      "  7850K .......... .......... .......... .......... .......... 81% 5.30M 1s\n",
      "  7900K .......... .......... .......... .......... .......... 82%  478K 1s\n",
      "  7950K .......... .......... .......... .......... .......... 82% 4.36M 1s\n",
      "  8000K .......... .......... .......... .......... .......... 83% 1.99M 1s\n",
      "  8050K .......... .......... .......... .......... .......... 83%  557K 1s\n",
      "  8100K .......... .......... .......... .......... .......... 84% 4.55M 1s\n",
      "  8150K .......... .......... .......... .......... .......... 84% 1.85M 1s\n",
      "  8200K .......... .......... .......... .......... .......... 85%  567K 1s\n",
      "  8250K .......... .......... .......... .......... .......... 85% 4.78M 1s\n",
      "  8300K .......... .......... .......... .......... .......... 86% 1.88M 1s\n",
      "  8350K .......... .......... .......... .......... .......... 86%  559K 1s\n",
      "  8400K .......... .......... .......... .......... .......... 87% 6.97M 1s\n",
      "  8450K .......... .......... .......... .......... .......... 87% 1.73M 1s\n",
      "  8500K .......... .......... .......... .......... .......... 88%  557K 1s\n",
      "  8550K .......... .......... .......... .......... .......... 88% 7.39M 1s\n",
      "  8600K .......... .......... .......... .......... .......... 89% 1.74M 1s\n",
      "  8650K .......... .......... .......... .......... .......... 89% 1.03M 1s\n",
      "  8700K .......... .......... .......... .......... .......... 90%  996K 1s\n",
      "  8750K .......... .......... .......... .......... .......... 90% 1.75M 1s\n",
      "  8800K .......... .......... .......... .......... .......... 91% 1.17M 1s\n",
      "  8850K .......... .......... .......... .......... .......... 91%  878K 1s\n",
      "  8900K .......... .......... .......... .......... .......... 92% 1.87M 1s\n",
      "  8950K .......... .......... .......... .......... .......... 92% 3.13M 1s\n",
      "  9000K .......... .......... .......... .......... .......... 93%  617K 1s\n",
      "  9050K .......... .......... .......... .......... .......... 94% 1.80M 0s\n",
      "  9100K .......... .......... .......... .......... .......... 94% 2.76M 0s\n",
      "  9150K .......... .......... .......... .......... .......... 95%  621K 0s\n",
      "  9200K .......... .......... .......... .......... .......... 95% 1.76M 0s\n",
      "  9250K .......... .......... .......... .......... .......... 96% 3.32M 0s\n",
      "  9300K .......... .......... .......... .......... .......... 96%  605K 0s\n",
      "  9350K .......... .......... .......... .......... .......... 97% 5.29M 0s\n",
      "  9400K .......... .......... .......... .......... .......... 97% 1.56M 0s\n",
      "  9450K .......... .......... .......... .......... .......... 98% 1.43M 0s\n",
      "  9500K .......... .......... .......... .......... .......... 98%  828K 0s\n",
      "  9550K .......... .......... .......... .......... .......... 99% 2.13M 0s\n",
      "  9600K .......... .......... .......... .......... .......... 99% 1.18M 0s\n",
      "  9650K .......... .......... ..........                      100%  590K=7.9s\n",
      "\n",
      "2019-10-10 12:33:20 (1.20 MB/s) - ‘data/train-images-idx3-ubyte.gz’ saved [9912422/9912422]\n",
      "\n",
      "--2019-10-10 12:33:20--  http://yann.lecun.com/exdb/mnist/train-labels-idx1-ubyte.gz\n",
      "Reusing existing connection to yann.lecun.com:80.\n",
      "HTTP request sent, awaiting response... 200 OK\n",
      "Length: 28881 (28K) [application/x-gzip]\n",
      "Saving to: ‘data/train-labels-idx1-ubyte.gz’\n",
      "\n",
      "     0K .......... .......... ........                        100% 23.9M=0.001s\n",
      "\n",
      "2019-10-10 12:33:21 (23.9 MB/s) - ‘data/train-labels-idx1-ubyte.gz’ saved [28881/28881]\n",
      "\n",
      "--2019-10-10 12:33:21--  http://yann.lecun.com/exdb/mnist/t10k-images-idx3-ubyte.gz\n",
      "Reusing existing connection to yann.lecun.com:80.\n",
      "HTTP request sent, awaiting response... 200 OK\n",
      "Length: 1648877 (1.6M) [application/x-gzip]\n",
      "Saving to: ‘data/t10k-images-idx3-ubyte.gz’\n",
      "\n",
      "     0K .......... .......... .......... .......... ..........  3% 20.0M 0s\n",
      "    50K .......... .......... .......... .......... ..........  6% 33.7M 0s\n",
      "   100K .......... .......... .......... .......... ..........  9% 14.4M 0s\n",
      "   150K .......... .......... .......... .......... .......... 12%  409K 1s\n",
      "   200K .......... .......... .......... .......... .......... 15% 17.6M 1s\n",
      "   250K .......... .......... .......... .......... .......... 18% 3.37M 1s\n",
      "   300K .......... .......... .......... .......... .......... 21%  454K 1s\n",
      "   350K .......... .......... .......... .......... .......... 24% 10.9M 1s\n",
      "   400K .......... .......... .......... .......... .......... 27% 4.70M 1s\n",
      "   450K .......... .......... .......... .......... .......... 31%  454K 1s\n",
      "   500K .......... .......... .......... .......... .......... 34% 8.91M 1s\n",
      "   550K .......... .......... .......... .......... .......... 37% 4.83M 1s\n",
      "   600K .......... .......... .......... .......... .......... 40% 1.85M 1s\n",
      "   650K .......... .......... .......... .......... .......... 43%  568K 1s\n",
      "   700K .......... .......... .......... .......... .......... 46% 3.28M 1s\n",
      "   750K .......... .......... .......... .......... .......... 49% 21.1M 1s\n",
      "   800K .......... .......... .......... .......... .......... 52%  464K 1s\n",
      "   850K .......... .......... .......... .......... .......... 55% 10.4M 1s\n",
      "   900K .......... .......... .......... .......... .......... 58% 2.38M 0s\n",
      "   950K .......... .......... .......... .......... .......... 62%  490K 0s\n",
      "  1000K .......... .......... .......... .......... .......... 65% 12.3M 0s\n",
      "  1050K .......... .......... .......... .......... .......... 68% 2.48M 0s\n",
      "  1100K .......... .......... .......... .......... .......... 71%  527K 0s\n",
      "  1150K .......... .......... .......... .......... .......... 74% 4.50M 0s\n",
      "  1200K .......... .......... .......... .......... .......... 77% 2.89M 0s\n",
      "  1250K .......... .......... .......... .......... .......... 80% 2.83M 0s\n",
      "  1300K .......... .......... .......... .......... .......... 83%  564K 0s\n",
      "  1350K .......... .......... .......... .......... .......... 86% 4.38M 0s\n",
      "  1400K .......... .......... .......... .......... .......... 90% 3.48M 0s\n",
      "  1450K .......... .......... .......... .......... .......... 93%  497K 0s\n",
      "  1500K .......... .......... .......... .......... .......... 96% 10.6M 0s\n",
      "  1550K .......... .......... .......... .......... .......... 99% 2.10M 0s\n",
      "  1600K ..........                                            100% 46.5M=1.2s\n",
      "\n",
      "2019-10-10 12:33:22 (1.34 MB/s) - ‘data/t10k-images-idx3-ubyte.gz’ saved [1648877/1648877]\n",
      "\n",
      "--2019-10-10 12:33:22--  http://yann.lecun.com/exdb/mnist/t10k-labels-idx1-ubyte.gz\n",
      "Reusing existing connection to yann.lecun.com:80.\n",
      "HTTP request sent, awaiting response... 200 OK\n",
      "Length: 4542 (4.4K) [application/x-gzip]\n",
      "Saving to: ‘data/t10k-labels-idx1-ubyte.gz’\n",
      "\n",
      "     0K ....                                                  100%  831K=0.005s\n",
      "\n",
      "2019-10-10 12:33:22 (831 KB/s) - ‘data/t10k-labels-idx1-ubyte.gz’ saved [4542/4542]\n",
      "\n",
      "FINISHED --2019-10-10 12:33:22--\n",
      "Total wall clock time: 11s\n",
      "Downloaded: 6 files, 11M in 9.2s (1.21 MB/s)\n"
     ]
    }
   ],
   "source": [
    "%%bash\n",
    "git clone https://github.com/sorki/python-mnist.git\n",
    "cd python-mnist/\n",
    "./get_data.sh"
   ]
  },
  {
   "cell_type": "code",
   "execution_count": 5,
   "metadata": {},
   "outputs": [],
   "source": [
    "from mnist import MNIST\n",
    "mndata = MNIST('./python-mnist/data')\n",
    "images, labels = mndata.load_training()\n",
    "test_img, test_lab = mndata.load_testing()"
   ]
  },
  {
   "cell_type": "code",
   "execution_count": 6,
   "metadata": {},
   "outputs": [],
   "source": [
    "images = np.array(images)\n",
    "labels = np.array(labels)\n",
    "test_img = np.array(test_img)\n",
    "test_lab = np.array(test_lab)"
   ]
  },
  {
   "cell_type": "code",
   "execution_count": 7,
   "metadata": {},
   "outputs": [],
   "source": [
    "def iterate_minibatches(X, y, batchsize):\n",
    "    indices = np.random.permutation(np.arange(len(X)))\n",
    "    for start in range(0, len(indices), batchsize):\n",
    "        ix = indices[start: start + batchsize]\n",
    "        yield X[ix], y[ix]"
   ]
  },
  {
   "cell_type": "markdown",
   "metadata": {},
   "source": [
    "### Training"
   ]
  },
  {
   "cell_type": "code",
   "execution_count": 8,
   "metadata": {},
   "outputs": [],
   "source": [
    "n_epochs = 10"
   ]
  },
  {
   "cell_type": "code",
   "execution_count": 9,
   "metadata": {
    "scrolled": true
   },
   "outputs": [
    {
     "name": "stdout",
     "output_type": "stream",
     "text": [
      "Epoch #0\n",
      "Minibatch 0 of 600\n",
      "Minibatch 100 of 600\n",
      "Minibatch 200 of 600\n",
      "Minibatch 300 of 600\n",
      "Minibatch 400 of 600\n",
      "Minibatch 500 of 600\n",
      "Training loss: 0.10137466\n",
      "Training accuracy: 0.9590333333333333\n",
      "Training in 0th epoch took 0.5446719328562418 minutes\n",
      "Testing minibatch 0 of 100\n",
      "Testing loss: 0.029154724\n",
      "Testing accuracy: 0.9901000000000001\n",
      "0th epoch took 0.5658048868179322 minutes\n",
      "Epoch #1\n",
      "Minibatch 0 of 600\n",
      "Minibatch 100 of 600\n",
      "Minibatch 200 of 600\n",
      "Minibatch 300 of 600\n",
      "Minibatch 400 of 600\n",
      "Minibatch 500 of 600\n",
      "Training loss: 0.0301739\n",
      "Training accuracy: 0.9917833333333335\n",
      "Training in 1th epoch took 0.5260341127713521 minutes\n",
      "Testing minibatch 0 of 100\n",
      "Testing loss: 0.017840901\n",
      "Testing accuracy: 0.992\n",
      "1th epoch took 0.5466638604799906 minutes\n",
      "Epoch #2\n",
      "Minibatch 0 of 600\n",
      "Minibatch 100 of 600\n",
      "Minibatch 200 of 600\n",
      "Minibatch 300 of 600\n",
      "Minibatch 400 of 600\n",
      "Minibatch 500 of 600\n",
      "Training loss: 0.022331133\n",
      "Training accuracy: 0.9952\n",
      "Training in 2th epoch took 0.5390448093414306 minutes\n",
      "Testing minibatch 0 of 100\n",
      "Testing loss: 0.013807792\n",
      "Testing accuracy: 0.9943000000000001\n",
      "2th epoch took 0.560029411315918 minutes\n",
      "Epoch #3\n",
      "Minibatch 0 of 600\n",
      "Minibatch 100 of 600\n",
      "Minibatch 200 of 600\n",
      "Minibatch 300 of 600\n",
      "Minibatch 400 of 600\n",
      "Minibatch 500 of 600\n",
      "Training loss: 0.017512131\n",
      "Training accuracy: 0.9970333333333333\n",
      "Training in 3th epoch took 0.5336638847986858 minutes\n",
      "Testing minibatch 0 of 100\n",
      "Testing loss: 0.012725604\n",
      "Testing accuracy: 0.9938000000000001\n",
      "3th epoch took 0.5549081524213155 minutes\n",
      "Epoch #4\n",
      "Minibatch 0 of 600\n",
      "Minibatch 100 of 600\n",
      "Minibatch 200 of 600\n",
      "Minibatch 300 of 600\n",
      "Minibatch 400 of 600\n",
      "Minibatch 500 of 600\n",
      "Training loss: 0.014651089\n",
      "Training accuracy: 0.9980166666666666\n",
      "Training in 4th epoch took 0.5395275592803955 minutes\n",
      "Testing minibatch 0 of 100\n",
      "Testing loss: 0.012087911\n",
      "Testing accuracy: 0.9941000000000001\n",
      "4th epoch took 0.5613043228785197 minutes\n",
      "Epoch #5\n",
      "Minibatch 0 of 600\n",
      "Minibatch 100 of 600\n",
      "Minibatch 200 of 600\n",
      "Minibatch 300 of 600\n",
      "Minibatch 400 of 600\n",
      "Minibatch 500 of 600\n",
      "Training loss: 0.011982471\n",
      "Training accuracy: 0.9989166666666666\n",
      "Training in 5th epoch took 0.536316963036855 minutes\n",
      "Testing minibatch 0 of 100\n",
      "Testing loss: 0.011031584\n",
      "Testing accuracy: 0.9936\n",
      "5th epoch took 0.5571611881256103 minutes\n",
      "Epoch #6\n",
      "Minibatch 0 of 600\n",
      "Minibatch 100 of 600\n",
      "Minibatch 200 of 600\n",
      "Minibatch 300 of 600\n",
      "Minibatch 400 of 600\n",
      "Minibatch 500 of 600\n",
      "Training loss: 0.010380201\n",
      "Training accuracy: 0.9994\n",
      "Training in 6th epoch took 0.5326623400052388 minutes\n",
      "Testing minibatch 0 of 100\n",
      "Testing loss: 0.012206419\n",
      "Testing accuracy: 0.9946\n",
      "6th epoch took 0.5540423393249512 minutes\n",
      "Epoch #7\n",
      "Minibatch 0 of 600\n",
      "Minibatch 100 of 600\n",
      "Minibatch 200 of 600\n",
      "Minibatch 300 of 600\n",
      "Minibatch 400 of 600\n",
      "Minibatch 500 of 600\n",
      "Training loss: 0.008874876\n",
      "Training accuracy: 0.9997500000000002\n",
      "Training in 7th epoch took 0.5533255696296692 minutes\n",
      "Testing minibatch 0 of 100\n",
      "Testing loss: 0.011004932\n",
      "Testing accuracy: 0.9942\n",
      "7th epoch took 0.5753164450327556 minutes\n",
      "Epoch #8\n",
      "Minibatch 0 of 600\n",
      "Minibatch 100 of 600\n",
      "Minibatch 200 of 600\n",
      "Minibatch 300 of 600\n",
      "Minibatch 400 of 600\n",
      "Minibatch 500 of 600\n",
      "Training loss: 0.007255888\n",
      "Training accuracy: 0.9998500000000001\n",
      "Training in 8th epoch took 0.5421809275945028 minutes\n",
      "Testing minibatch 0 of 100\n",
      "Testing loss: 0.0117318975\n",
      "Testing accuracy: 0.9943000000000001\n",
      "8th epoch took 0.5622164885203044 minutes\n",
      "Epoch #9\n",
      "Minibatch 0 of 600\n",
      "Minibatch 100 of 600\n",
      "Minibatch 200 of 600\n",
      "Minibatch 300 of 600\n",
      "Minibatch 400 of 600\n",
      "Minibatch 500 of 600\n",
      "Training loss: 0.006388204\n",
      "Training accuracy: 0.9999000000000001\n",
      "Training in 9th epoch took 0.5167104442914326 minutes\n",
      "Testing minibatch 0 of 100\n",
      "Testing loss: 0.01085101\n",
      "Testing accuracy: 0.9945\n",
      "9th epoch took 0.5368400096893311 minutes\n",
      "All epochs took 5.57437971830368 minutes\n"
     ]
    }
   ],
   "source": [
    "training_loss = []\n",
    "training_accuracy = []\n",
    "testing_loss = []\n",
    "testing_accuracy = []\n",
    "start_time = time()\n",
    "for epoch in range(n_epochs):\n",
    "    print(\"Epoch #\"+str(epoch))\n",
    "    cn.train()\n",
    "    running_loss = []\n",
    "    running_accuracy = []\n",
    "    i = 0\n",
    "    epoch_time = time()\n",
    "    for batch_X, batch_y in iterate_minibatches(images, labels, 100):\n",
    "        if i % 100 == 0:\n",
    "            print(\"Minibatch \"+str(i)+\" of \"+str(round(images.shape[0]/100)))\n",
    "        i += 1\n",
    "        optimizer.zero_grad()\n",
    "        inp = torch.from_numpy(\n",
    "            batch_X.reshape(batch_X.shape[0],1,28,28)/255.0\n",
    "        ).type(torch.FloatTensor).cuda()\n",
    "        real_class = make_y(\n",
    "            torch.from_numpy(batch_y).type(torch.LongTensor).cuda(), 10\n",
    "        )\n",
    "        _, lengths, reconstruction = cn(inp)\n",
    "        loss = capsule_loss(\n",
    "            lengths, real_class, inp, reconstruction\n",
    "        )\n",
    "        loss.backward()\n",
    "        optimizer.step()\n",
    "        running_loss.append(loss.cpu().data.numpy())\n",
    "        running_accuracy.append(\n",
    "            accuracy_score(lengths.min(1)[1].cpu().data.numpy(), batch_y)\n",
    "        )\n",
    "    training_loss.append(np.mean(running_loss))\n",
    "    training_accuracy.append(np.mean(running_accuracy))\n",
    "    print(\"Training loss: \"+str(training_loss[-1]))\n",
    "    print(\"Training accuracy: \"+str(training_accuracy[-1]))\n",
    "    print(\"Training in \"+str(epoch)+\"th epoch took \"+str((time() - epoch_time)/60) + \" minutes\")\n",
    "    cn.eval()\n",
    "    running_test_loss = []\n",
    "    running_test_accuracy = []\n",
    "    i = 0\n",
    "    for batch_X, batch_y in iterate_minibatches(test_img, test_lab, 100):\n",
    "        if i % 100 == 0:\n",
    "            print(\"Testing minibatch \"+str(i)+\" of \"+str(round(test_img.shape[0]/100)))\n",
    "        i += 1\n",
    "        test_X = torch.from_numpy(\n",
    "            batch_X.reshape(batch_X.shape[0],1,28,28)/255.0\n",
    "        ).type(torch.FloatTensor).cuda()\n",
    "        test_Y = make_y(\n",
    "            torch.from_numpy(batch_y).type(torch.LongTensor).cuda(), 10\n",
    "        )\n",
    "        test_internal, test_lengths, test_reconstruction = cn(test_X)\n",
    "        running_test_loss.append(\n",
    "            capsule_loss(\n",
    "                test_lengths, test_Y, test_X, test_reconstruction\n",
    "            ).cpu().data.numpy()\n",
    "        )\n",
    "        running_test_accuracy.append(\n",
    "            accuracy_score(test_lengths.min(1)[1].cpu().data.numpy(), batch_y)\n",
    "        )\n",
    "    testing_loss.append(np.mean(running_test_loss))\n",
    "    testing_accuracy.append(np.mean(running_test_accuracy))\n",
    "    print(\"Testing loss: \"+str(testing_loss[-1]))\n",
    "    print(\"Testing accuracy: \"+str(testing_accuracy[-1]))\n",
    "    print(str(epoch)+\"th epoch took \"+str((time() - epoch_time)/60) + \" minutes\")\n",
    "print(\"All epochs took \"+str((time() - start_time)/60) + \" minutes\")"
   ]
  },
  {
   "cell_type": "code",
   "execution_count": 19,
   "metadata": {},
   "outputs": [
    {
     "data": {
      "text/plain": [
       "Text(0.5, 1.0, 'Accuracy')"
      ]
     },
     "execution_count": 19,
     "metadata": {},
     "output_type": "execute_result"
    },
    {
     "data": {
      "image/png": "[encoded data removed]",
      "text/plain": [
       "<Figure size 432x288 with 2 Axes>"
      ]
     },
     "metadata": {
      "needs_background": "light"
     },
     "output_type": "display_data"
    }
   ],
   "source": [
    "plt.subplot(1,2,1)\n",
    "plt.plot(training_loss)\n",
    "plt.plot(testing_loss)\n",
    "plt.grid(True)\n",
    "plt.title(\"Loss\")\n",
    "plt.subplot(1,2,2)\n",
    "plt.plot(training_accuracy)\n",
    "plt.plot(testing_accuracy)\n",
    "plt.grid(True)\n",
    "plt.title(\"Accuracy\")"
   ]
  },
  {
   "cell_type": "code",
   "execution_count": 20,
   "metadata": {},
   "outputs": [],
   "source": [
    "torch.save(cn, \"mnist_hitnet.ptch\")"
   ]
  },
  {
   "cell_type": "code",
   "execution_count": 21,
   "metadata": {},
   "outputs": [],
   "source": [
    "cn.eval()\n",
    "random_sample = test_img[np.random.choice(range(test_img.shape[0]), 2)]"
   ]
  },
  {
   "cell_type": "code",
   "execution_count": 22,
   "metadata": {},
   "outputs": [
    {
     "data": {
      "text/plain": [
       "<matplotlib.image.AxesImage at 0x7f4cfc719828>"
      ]
     },
     "execution_count": 22,
     "metadata": {},
     "output_type": "execute_result"
    },
    {
     "data": {
      "image/png": "[encoded data removed]",
      "text/plain": [
       "<Figure size 432x288 with 2 Axes>"
      ]
     },
     "metadata": {
      "needs_background": "light"
     },
     "output_type": "display_data"
    }
   ],
   "source": [
    "plt.subplot(1,2,1)\n",
    "plt.imshow(random_sample[0].reshape(28,28))\n",
    "plt.subplot(1,2,2)\n",
    "plt.imshow(random_sample[1].reshape(28,28))"
   ]
  },
  {
   "cell_type": "code",
   "execution_count": 23,
   "metadata": {},
   "outputs": [],
   "source": [
    "_,cl,rec, = cn(Variable(torch.from_numpy(random_sample.reshape(2,1,28,28)/255).type(torch.FloatTensor)).cuda())"
   ]
  },
  {
   "cell_type": "code",
   "execution_count": 24,
   "metadata": {},
   "outputs": [
    {
     "data": {
      "text/plain": [
       "torch.Size([2, 10])"
      ]
     },
     "execution_count": 24,
     "metadata": {},
     "output_type": "execute_result"
    }
   ],
   "source": [
    "cl.shape"
   ]
  },
  {
   "cell_type": "code",
   "execution_count": 25,
   "metadata": {},
   "outputs": [],
   "source": [
    "rec = rec.cpu().data.numpy()"
   ]
  },
  {
   "cell_type": "code",
   "execution_count": 26,
   "metadata": {},
   "outputs": [
    {
     "data": {
      "text/plain": [
       "<matplotlib.image.AxesImage at 0x7f4ceb59b4e0>"
      ]
     },
     "execution_count": 26,
     "metadata": {},
     "output_type": "execute_result"
    },
    {
     "data": {
      "image/png": "[encoded data removed]",
      "text/plain": [
       "<Figure size 432x288 with 2 Axes>"
      ]
     },
     "metadata": {
      "needs_background": "light"
     },
     "output_type": "display_data"
    }
   ],
   "source": [
    "plt.subplot(1,2,1)\n",
    "plt.imshow(rec[0].reshape(28,28))\n",
    "plt.subplot(1,2,2)\n",
    "plt.imshow(rec[1].reshape(28,28))"
   ]
  },
  {
   "cell_type": "code",
   "execution_count": 27,
   "metadata": {},
   "outputs": [
    {
     "data": {
      "text/plain": [
       "torch.return_types.min(\n",
       "values=tensor([0.0422, 0.0452], device='cuda:0', grad_fn=<MinBackward0>),\n",
       "indices=tensor([9, 6], device='cuda:0'))"
      ]
     },
     "execution_count": 27,
     "metadata": {},
     "output_type": "execute_result"
    }
   ],
   "source": [
    "cl.min(1)"
   ]
  }
 ],
 "metadata": {
  "kernelspec": {
   "display_name": "Python 3",
   "language": "python",
   "name": "python3"
  },
  "language_info": {
   "codemirror_mode": {
    "name": "ipython",
    "version": 3
   },
   "file_extension": ".py",
   "mimetype": "text/x-python",
   "name": "python",
   "nbconvert_exporter": "python",
   "pygments_lexer": "ipython3",
   "version": "3.7.2"
  }
 },
 "nbformat": 4,
 "nbformat_minor": 2
}
