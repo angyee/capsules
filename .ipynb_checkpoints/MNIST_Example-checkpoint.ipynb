{
 "cells": [
  {
   "cell_type": "markdown",
   "metadata": {},
   "source": [
    "### Necessary imports"
   ]
  },
  {
   "cell_type": "code",
   "execution_count": 1,
   "metadata": {},
   "outputs": [],
   "source": [
    "import torch\n",
    "import numpy as np\n",
    "from torch import nn\n",
    "from time import time\n",
    "from capsules import *\n",
    "from torch.optim import Adam\n",
    "import torch.nn.functional as F\n",
    "import matplotlib.pyplot as plt\n",
    "from torch.autograd import Variable\n",
    "from sklearn.metrics import accuracy_score"
   ]
  },
  {
   "cell_type": "markdown",
   "metadata": {},
   "source": [
    "### Definition of CapsNet model"
   ]
  },
  {
   "cell_type": "code",
   "execution_count": 2,
   "metadata": {},
   "outputs": [],
   "source": [
    "class CapsNet4MNIST(nn.Module):\n",
    "    \n",
    "    def __init__(self):\n",
    "        super(CapsNet4MNIST, self).__init__()\n",
    "        self.conv = nn.Sequential(\n",
    "            nn.Conv2d(\n",
    "                in_channels=1,\n",
    "                out_channels=256,\n",
    "                kernel_size=9,\n",
    "                stride=1\n",
    "            ),\n",
    "            nn.ReLU(inplace=True)\n",
    "        )\n",
    "        self.primcaps = PrimaryCapsuleLayer()\n",
    "        self.digicaps = SecondaryCapsuleLayer()\n",
    "        self.decoder = RegularizingDecoder()\n",
    "        \n",
    "    def forward(self, x):\n",
    "        \"\"\"Compute forward of capsules, get the longest vectors, reconstruct the pictures\"\"\"\n",
    "        internal = self.digicaps(self.primcaps(self.conv(x)))\n",
    "        lengths = F.softmax((internal.squeeze(-1)**2).sum(2)**0.5, dim=1)#find_probability(internal)\n",
    "        _, max_caps_index = lengths.max(dim=-1)\n",
    "        max_caps = torch.stack(\n",
    "            [get_a_capsule(internal, a, b) for a,b in enumerate(max_caps_index)]\n",
    "        )\n",
    "        masked = Variable(torch.eye(10)).cuda()\n",
    "        masked = masked.index_select(dim=0, index=max_caps_index.data)\n",
    "        reconstruction = self.decoder((internal*masked[:,:,None,None]).view(x.size(0), 160))\n",
    "        return(internal, reconstruction, max_caps_index)"
   ]
  },
  {
   "cell_type": "code",
   "execution_count": 3,
   "metadata": {},
   "outputs": [],
   "source": [
    "cn = CapsNet4MNIST().cuda()\n",
    "optimizer = Adam(cn.parameters())\n",
    "capsule_loss = CapsuleLoss().cuda()"
   ]
  },
  {
   "cell_type": "markdown",
   "metadata": {},
   "source": [
    "### Data processing"
   ]
  },
  {
   "cell_type": "code",
   "execution_count": 4,
   "metadata": {},
   "outputs": [
    {
     "name": "stdout",
     "output_type": "stream",
     "text": [
      "data directory already present, exiting\n"
     ]
    },
    {
     "name": "stderr",
     "output_type": "stream",
     "text": [
      "fatal: destination path 'python-mnist' already exists and is not an empty directory.\n"
     ]
    }
   ],
   "source": [
    "%%bash\n",
    "git clone https://github.com/sorki/python-mnist.git\n",
    "cd python-mnist/\n",
    "./get_data.sh"
   ]
  },
  {
   "cell_type": "code",
   "execution_count": 5,
   "metadata": {},
   "outputs": [],
   "source": [
    "from mnist import MNIST\n",
    "mndata = MNIST('./python-mnist/data')\n",
    "images, labels = mndata.load_training()\n",
    "test_img, test_lab = mndata.load_testing()"
   ]
  },
  {
   "cell_type": "code",
   "execution_count": 6,
   "metadata": {},
   "outputs": [],
   "source": [
    "images = np.array(images)\n",
    "labels = np.array(labels)\n",
    "test_img = np.array(test_img)\n",
    "test_lab = np.array(test_lab)"
   ]
  },
  {
   "cell_type": "code",
   "execution_count": 7,
   "metadata": {},
   "outputs": [],
   "source": [
    "def iterate_minibatches(X, y, batchsize):\n",
    "    indices = np.random.permutation(np.arange(len(X)))\n",
    "    for start in range(0, len(indices), batchsize):\n",
    "        ix = indices[start: start + batchsize]\n",
    "        yield X[ix], y[ix]"
   ]
  },
  {
   "cell_type": "markdown",
   "metadata": {},
   "source": [
    "### Training"
   ]
  },
  {
   "cell_type": "code",
   "execution_count": 8,
   "metadata": {
    "scrolled": true
   },
   "outputs": [
    {
     "name": "stdout",
     "output_type": "stream",
     "text": [
      "Epoch #0\n",
      "Minibatch 0 of 600\n",
      "Minibatch 100 of 600\n",
      "Minibatch 200 of 600\n",
      "Minibatch 300 of 600\n",
      "Minibatch 400 of 600\n",
      "Minibatch 500 of 600\n",
      "Training loss: 0.72281873\n",
      "Training accuracy: 0.9225666666666666\n",
      "Training in 0th epoch took 7.371819965044657 minutes\n",
      "Testing minibatch 0 of 100\n",
      "Testing loss: 0.6462048\n",
      "Testing accuracy: 0.9706000000000001\n",
      "0th epoch took 7.7570603609085085 minutes\n",
      "Epoch #1\n",
      "Minibatch 0 of 600\n",
      "Minibatch 100 of 600\n",
      "Minibatch 200 of 600\n",
      "Minibatch 300 of 600\n",
      "Minibatch 400 of 600\n",
      "Minibatch 500 of 600\n",
      "Training loss: 0.46679658\n",
      "Training accuracy: 0.9684833333333334\n",
      "Training in 1th epoch took 7.259831031163533 minutes\n",
      "Testing minibatch 0 of 100\n",
      "Testing loss: 0.27470475\n",
      "Testing accuracy: 0.9807000000000001\n",
      "1th epoch took 7.644186445077261 minutes\n",
      "Epoch #2\n",
      "Minibatch 0 of 600\n",
      "Minibatch 100 of 600\n",
      "Minibatch 200 of 600\n",
      "Minibatch 300 of 600\n",
      "Minibatch 400 of 600\n",
      "Minibatch 500 of 600\n",
      "Training loss: 0.20199236\n",
      "Training accuracy: 0.9831666666666666\n",
      "Training in 2th epoch took 7.313320914904277 minutes\n",
      "Testing minibatch 0 of 100\n",
      "Testing loss: 0.16623321\n",
      "Testing accuracy: 0.9858\n",
      "2th epoch took 7.696636195977529 minutes\n",
      "Epoch #3\n",
      "Minibatch 0 of 600\n",
      "Minibatch 100 of 600\n",
      "Minibatch 200 of 600\n",
      "Minibatch 300 of 600\n",
      "Minibatch 400 of 600\n",
      "Minibatch 500 of 600\n",
      "Training loss: 0.15217997\n",
      "Training accuracy: 0.9879666666666667\n",
      "Training in 3th epoch took 7.317479439576467 minutes\n",
      "Testing minibatch 0 of 100\n",
      "Testing loss: 0.14318591\n",
      "Testing accuracy: 0.9881999999999997\n",
      "3th epoch took 7.697936801115672 minutes\n",
      "Epoch #4\n",
      "Minibatch 0 of 600\n",
      "Minibatch 100 of 600\n",
      "Minibatch 200 of 600\n",
      "Minibatch 300 of 600\n",
      "Minibatch 400 of 600\n",
      "Minibatch 500 of 600\n",
      "Training loss: 0.13564375\n",
      "Training accuracy: 0.9898000000000002\n",
      "Training in 4th epoch took 7.302832122643789 minutes\n",
      "Testing minibatch 0 of 100\n",
      "Testing loss: 0.13397379\n",
      "Testing accuracy: 0.9878\n",
      "4th epoch took 7.687126656373342 minutes\n",
      "Epoch #5\n",
      "Minibatch 0 of 600\n",
      "Minibatch 100 of 600\n",
      "Minibatch 200 of 600\n",
      "Minibatch 300 of 600\n",
      "Minibatch 400 of 600\n",
      "Minibatch 500 of 600\n",
      "Training loss: 0.12587535\n",
      "Training accuracy: 0.9915000000000002\n",
      "Training in 5th epoch took 7.303571736812591 minutes\n",
      "Testing minibatch 0 of 100\n",
      "Testing loss: 0.12943123\n",
      "Testing accuracy: 0.9886\n",
      "5th epoch took 7.685897350311279 minutes\n",
      "Epoch #6\n",
      "Minibatch 0 of 600\n",
      "Minibatch 100 of 600\n",
      "Minibatch 200 of 600\n",
      "Minibatch 300 of 600\n",
      "Minibatch 400 of 600\n",
      "Minibatch 500 of 600\n",
      "Training loss: 0.11872571\n",
      "Training accuracy: 0.9930500000000002\n",
      "Training in 6th epoch took 7.301452068487803 minutes\n",
      "Testing minibatch 0 of 100\n",
      "Testing loss: 0.121390484\n",
      "Testing accuracy: 0.9891999999999999\n",
      "6th epoch took 7.6852430899937945 minutes\n",
      "Epoch #7\n",
      "Minibatch 0 of 600\n",
      "Minibatch 100 of 600\n",
      "Minibatch 200 of 600\n",
      "Minibatch 300 of 600\n",
      "Minibatch 400 of 600\n",
      "Minibatch 500 of 600\n",
      "Training loss: 0.113275655\n",
      "Training accuracy: 0.9939\n",
      "Training in 7th epoch took 7.303627848625183 minutes\n",
      "Testing minibatch 0 of 100\n",
      "Testing loss: 0.1175033\n",
      "Testing accuracy: 0.9901000000000001\n",
      "7th epoch took 7.686027677853902 minutes\n",
      "Epoch #8\n",
      "Minibatch 0 of 600\n",
      "Minibatch 100 of 600\n",
      "Minibatch 200 of 600\n",
      "Minibatch 300 of 600\n",
      "Minibatch 400 of 600\n",
      "Minibatch 500 of 600\n",
      "Training loss: 0.10847018\n",
      "Training accuracy: 0.9946\n",
      "Training in 8th epoch took 7.2990785082181295 minutes\n",
      "Testing minibatch 0 of 100\n",
      "Testing loss: 0.11434772\n",
      "Testing accuracy: 0.9913000000000001\n",
      "8th epoch took 7.6817301392555235 minutes\n",
      "Epoch #9\n",
      "Minibatch 0 of 600\n",
      "Minibatch 100 of 600\n",
      "Minibatch 200 of 600\n",
      "Minibatch 300 of 600\n",
      "Minibatch 400 of 600\n",
      "Minibatch 500 of 600\n",
      "Training loss: 0.10485104\n",
      "Training accuracy: 0.9951166666666665\n",
      "Training in 9th epoch took 7.300117242336273 minutes\n",
      "Testing minibatch 0 of 100\n",
      "Testing loss: 0.113291666\n",
      "Testing accuracy: 0.9904\n",
      "9th epoch took 7.682621093591054 minutes\n",
      "All epochs took 76.90454696814218 minutes\n"
     ]
    }
   ],
   "source": [
    "training_loss = []\n",
    "training_accuracy = []\n",
    "testing_loss = []\n",
    "testing_accuracy = []\n",
    "start_time = time()\n",
    "n_epochs = 10\n",
    "for epoch in range(10):\n",
    "    print(\"Epoch #\"+str(epoch))\n",
    "    cn.train()\n",
    "    running_loss = []\n",
    "    running_accuracy = []\n",
    "    i = 0\n",
    "    epoch_time = time()\n",
    "    for batch_X, batch_y in iterate_minibatches(images, labels, 100):\n",
    "        if i % 100 == 0:\n",
    "            print(\"Minibatch \"+str(i)+\" of \"+str(round(images.shape[0]/100)))\n",
    "        i += 1\n",
    "        optimizer.zero_grad()\n",
    "        inp = Variable(\n",
    "            torch.from_numpy(batch_X.reshape(batch_X.shape[0],1,28,28)/255.0).type(torch.FloatTensor)\n",
    "        ).cuda()\n",
    "        real_class = Variable(\n",
    "            torch.from_numpy(batch_y).type(torch.LongTensor)\n",
    "        ).cuda()\n",
    "        internal, reconstruction, classes = cn(inp)\n",
    "        loss = capsule_loss(internal, inp.view(inp.size(0), 28*28), real_class, reconstruction)\n",
    "        loss.backward()\n",
    "        optimizer.step()\n",
    "        running_loss.append(loss.cpu().data.numpy())\n",
    "        running_accuracy.append(\n",
    "            accuracy_score(classes.cpu().data.numpy(), batch_y)\n",
    "        )\n",
    "    training_loss.append(np.mean(running_loss))\n",
    "    training_accuracy.append(np.mean(running_accuracy))\n",
    "    print(\"Training loss: \"+str(training_loss[-1]))\n",
    "    print(\"Training accuracy: \"+str(training_accuracy[-1]))\n",
    "    print(\"Training in \"+str(epoch)+\"th epoch took \"+str((time() - epoch_time)/60) + \" minutes\")\n",
    "    cn.eval()\n",
    "    running_test_loss = []\n",
    "    running_test_accuracy = []\n",
    "    i = 0\n",
    "    for batch_X, batch_y in iterate_minibatches(test_img, test_lab, 100):\n",
    "        if i % 100 == 0:\n",
    "            print(\"Testing minibatch \"+str(i)+\" of \"+str(round(test_img.shape[0]/100)))\n",
    "        i += 1\n",
    "        test_X = Variable(\n",
    "            torch.from_numpy(batch_X.reshape(batch_X.shape[0],1,28,28)/255.0).type(torch.FloatTensor)\n",
    "        ).cuda()\n",
    "        test_Y = Variable(\n",
    "            torch.from_numpy(batch_y).type(torch.LongTensor)\n",
    "        ).cuda()\n",
    "        test_internal, test_reconstruction, test_classes = cn(test_X)\n",
    "        running_test_loss.append(\n",
    "            capsule_loss(\n",
    "                test_internal, test_X.reshape(test_X.size(0), 28*28), \n",
    "                test_Y, test_reconstruction\n",
    "            ).cpu().data.numpy()\n",
    "        )\n",
    "        running_test_accuracy.append(\n",
    "            accuracy_score(test_classes.cpu().data.numpy(), batch_y)\n",
    "        )\n",
    "    testing_loss.append(np.mean(running_test_loss))\n",
    "    testing_accuracy.append(np.mean(running_test_accuracy))\n",
    "    print(\"Testing loss: \"+str(testing_loss[-1]))\n",
    "    print(\"Testing accuracy: \"+str(testing_accuracy[-1]))\n",
    "    print(str(epoch)+\"th epoch took \"+str((time() - epoch_time)/60) + \" minutes\")\n",
    "print(\"All epochs took \"+str((time() - start_time)/60) + \" minutes\")"
   ]
  },
  {
   "cell_type": "code",
   "execution_count": 9,
   "metadata": {},
   "outputs": [
    {
     "data": {
      "text/plain": [
       "Text(0.5,1,'Accuracy')"
      ]
     },
     "execution_count": 9,
     "metadata": {},
     "output_type": "execute_result"
    },
    {
     "data": {
      "image/png": "[encoded data removed]",
      "text/plain": [
       "<matplotlib.figure.Figure at 0x7f416e21bac8>"
      ]
     },
     "metadata": {},
     "output_type": "display_data"
    }
   ],
   "source": [
    "plt.subplot(1,2,1)\n",
    "plt.plot(training_loss)\n",
    "plt.plot(testing_loss)\n",
    "plt.grid(True)\n",
    "plt.title(\"Loss\")\n",
    "plt.subplot(1,2,2)\n",
    "plt.plot(training_accuracy)\n",
    "plt.plot(testing_accuracy)\n",
    "plt.grid(True)\n",
    "plt.title(\"Accuracy\")"
   ]
  },
  {
   "cell_type": "code",
   "execution_count": 10,
   "metadata": {},
   "outputs": [],
   "source": [
    "torch.save(cn.state_dict(), \"mnist_capsule.ptch\")"
   ]
  },
  {
   "cell_type": "code",
   "execution_count": 11,
   "metadata": {},
   "outputs": [],
   "source": [
    "cn.eval()\n",
    "random_sample = test_img[np.random.choice(range(test_img.shape[0]), 2)]"
   ]
  },
  {
   "cell_type": "code",
   "execution_count": 12,
   "metadata": {},
   "outputs": [
    {
     "data": {
      "text/plain": [
       "<matplotlib.image.AxesImage at 0x7f417c80ae48>"
      ]
     },
     "execution_count": 12,
     "metadata": {},
     "output_type": "execute_result"
    },
    {
     "data": {
      "image/png": "[encoded data removed]",
      "text/plain": [
       "<matplotlib.figure.Figure at 0x7f416e21b6d8>"
      ]
     },
     "metadata": {},
     "output_type": "display_data"
    }
   ],
   "source": [
    "plt.subplot(1,2,1)\n",
    "plt.imshow(random_sample[0].reshape(28,28))\n",
    "plt.subplot(1,2,2)\n",
    "plt.imshow(random_sample[1].reshape(28,28))"
   ]
  },
  {
   "cell_type": "code",
   "execution_count": 13,
   "metadata": {},
   "outputs": [],
   "source": [
    "_,rec,cl = cn(Variable(torch.from_numpy(random_sample.reshape(2,1,28,28)/255).type(torch.FloatTensor)).cuda())"
   ]
  },
  {
   "cell_type": "code",
   "execution_count": 14,
   "metadata": {},
   "outputs": [
    {
     "data": {
      "text/plain": [
       "tensor([ 1,  6], device='cuda:0')"
      ]
     },
     "execution_count": 14,
     "metadata": {},
     "output_type": "execute_result"
    }
   ],
   "source": [
    "cl"
   ]
  },
  {
   "cell_type": "code",
   "execution_count": 15,
   "metadata": {},
   "outputs": [],
   "source": [
    "rec = rec.cpu().data.numpy()"
   ]
  },
  {
   "cell_type": "code",
   "execution_count": 16,
   "metadata": {},
   "outputs": [
    {
     "data": {
      "text/plain": [
       "<matplotlib.image.AxesImage at 0x7f417c7c1128>"
      ]
     },
     "execution_count": 16,
     "metadata": {},
     "output_type": "execute_result"
    },
    {
     "data": {
      "image/png": "[encoded data removed]",
      "text/plain": [
       "<matplotlib.figure.Figure at 0x7f417c813198>"
      ]
     },
     "metadata": {},
     "output_type": "display_data"
    }
   ],
   "source": [
    "plt.subplot(1,2,1)\n",
    "plt.imshow(rec[0].reshape(28,28))\n",
    "plt.subplot(1,2,2)\n",
    "plt.imshow(rec[1].reshape(28,28))"
   ]
  }
 ],
 "metadata": {
  "kernelspec": {
   "display_name": "Python 3",
   "language": "python",
   "name": "python3"
  },
  "language_info": {
   "codemirror_mode": {
    "name": "ipython",
    "version": 3
   },
   "file_extension": ".py",
   "mimetype": "text/x-python",
   "name": "python",
   "nbconvert_exporter": "python",
   "pygments_lexer": "ipython3",
   "version": "3.6.4"
  }
 },
 "nbformat": 4,
 "nbformat_minor": 2
}
