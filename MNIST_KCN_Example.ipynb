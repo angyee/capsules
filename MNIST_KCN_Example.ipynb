{
 "cells": [
  {
   "cell_type": "markdown",
   "metadata": {},
   "source": [
    "### Necessary imports"
   ]
  },
  {
   "cell_type": "code",
   "execution_count": 1,
   "metadata": {},
   "outputs": [],
   "source": [
    "import math\n",
    "import torch\n",
    "import gpytorch\n",
    "import numpy as np\n",
    "from torch import nn\n",
    "from time import time\n",
    "from capsules import *\n",
    "from torch.optim import Adam\n",
    "import torch.nn.functional as F\n",
    "import matplotlib.pyplot as plt\n",
    "from torch.autograd import Variable\n",
    "from gpytorch.means import ConstantMean\n",
    "from gpytorch.models import ApproximateGP\n",
    "from gpytorch.mlls import VariationalELBO\n",
    "from sklearn.metrics import accuracy_score\n",
    "from gpytorch.priors import SmoothedBoxPrior\n",
    "from gpytorch.likelihoods import SoftmaxLikelihood\n",
    "from gpytorch.kernels import ScaleKernel, RBFKernel\n",
    "from gpytorch.distributions import MultivariateNormal\n",
    "from gpytorch.variational import CholeskyVariationalDistribution\n",
    "from gpytorch.variational import MultitaskVariationalStrategy, GridInterpolationVariationalStrategy"
   ]
  },
  {
   "cell_type": "markdown",
   "metadata": {},
   "source": [
    "### Definition of CapsNet model and corresponding Gaussian Process"
   ]
  },
  {
   "cell_type": "code",
   "execution_count": 2,
   "metadata": {},
   "outputs": [],
   "source": [
    "class CapsNet4MNIST(nn.Module):\n",
    "    \n",
    "    def __init__(self, n_secondary_capsules):\n",
    "        super(CapsNet4MNIST, self).__init__()\n",
    "        self.conv = nn.Sequential(\n",
    "            nn.Conv2d(\n",
    "                in_channels=1,\n",
    "                out_channels=256,\n",
    "                kernel_size=9,\n",
    "                stride=1\n",
    "            ),\n",
    "            nn.ReLU(inplace=True)\n",
    "        )\n",
    "        self.n_secondary_capsules = n_secondary_capsules\n",
    "        self.primcaps = PrimaryCapsuleLayer()\n",
    "        self.digicaps = SecondaryCapsuleLayer(n_secondary_capsules)\n",
    "        self.decoder = RegularizingDecoder([n_secondary_capsules*16, 512, 1024, 784])\n",
    "        \n",
    "    def forward(self, x):\n",
    "        \"\"\"Compute forward of capsules, get the longest vectors, reconstruct the pictures\"\"\"\n",
    "        u = self.conv(x)\n",
    "        u = self.primcaps(u)\n",
    "        internal = self.digicaps(u)\n",
    "        lengths = F.softmax(\n",
    "            (internal**2).sum(dim=-1)**0.5, dim=-1\n",
    "        )\n",
    "        _, max_caps_index = lengths.max(dim=-1)\n",
    "        masked = Variable(torch.eye(self.n_secondary_capsules))\n",
    "        masked = masked.cuda() if torch.cuda.is_available() else masked\n",
    "        masked = masked.index_select(dim=0, index=max_caps_index)\n",
    "        reconstruction = self.decoder(\n",
    "            (internal*masked[:,:,None]).view(x.size(0), -1)\n",
    "        )\n",
    "        return(internal, reconstruction, lengths, max_caps_index)"
   ]
  },
  {
   "cell_type": "code",
   "execution_count": 3,
   "metadata": {},
   "outputs": [],
   "source": [
    "class GaussianProcessLayer(ApproximateGP):\n",
    "    \n",
    "    def __init__(self, dim, grid_bounds=(-10.0, 10.0), grid_size=64):\n",
    "        variational_distribution = CholeskyVariationalDistribution(\n",
    "            num_inducing_points=grid_size, batch_size=dim\n",
    "        )\n",
    "        variational_strategy = MultitaskVariationalStrategy(\n",
    "            GridInterpolationVariationalStrategy(\n",
    "                self, grid_size=grid_size, grid_bounds=[grid_bounds],\n",
    "                variational_distribution=variational_distribution,\n",
    "            ), num_tasks=dim,\n",
    "        )\n",
    "        super().__init__(variational_strategy)\n",
    "        self.covar_module = ScaleKernel(\n",
    "            RBFKernel(\n",
    "                lengthscale_prior=SmoothedBoxPrior(\n",
    "                    math.exp(-1), math.exp(1), sigma=0.1, transform=torch.exp\n",
    "                )\n",
    "            )\n",
    "        )\n",
    "        self.mean_module = ConstantMean()\n",
    "        self.grid_bounds = grid_bounds\n",
    "        \n",
    "    def forward(self, x):\n",
    "        mean = self.mean_module(x)\n",
    "        covar = self.covar_module(x)\n",
    "        return(MultivariateNormal(mean, covar))"
   ]
  },
  {
   "cell_type": "code",
   "execution_count": 4,
   "metadata": {},
   "outputs": [],
   "source": [
    "class KCN(gpytorch.Module):\n",
    "    def __init__(self, feature_extractor, dim, grid_bounds=(-10.0, 10.0)):\n",
    "        super(KCN, self).__init__()\n",
    "        self.FE = feature_extractor\n",
    "        self.GP = GaussianProcessLayer(dim, grid_bounds)\n",
    "        self.grid_bounds = grid_bounds\n",
    "        self.dim = dim\n",
    "        self.decoder = RegularizingDecoder()\n",
    "        \n",
    "    def forward(self, x):\n",
    "        internal, _, _, _ = self.FE(x)\n",
    "        internal = internal.reshape(x.shape[0], -1)\n",
    "        features = gpytorch.utils.grid.scale_to_bounds(\n",
    "            internal, self.grid_bounds[0], self.grid_bounds[1]\n",
    "        )\n",
    "        res = self.GP(features.transpose(-1, -2).unsqueeze(-1))\n",
    "        return(res)"
   ]
  },
  {
   "cell_type": "code",
   "execution_count": 5,
   "metadata": {},
   "outputs": [],
   "source": [
    "cn = CapsNet4MNIST(2).cuda()\n",
    "kcn = KCN(cn, dim=2*16).cuda()\n",
    "likelihood = SoftmaxLikelihood(2*16, 10).cuda()\n",
    "mll = VariationalELBO(likelihood, kcn.GP, num_data=60000)#len(train_loader.dataset))"
   ]
  },
  {
   "cell_type": "markdown",
   "metadata": {},
   "source": [
    "### Data processing"
   ]
  },
  {
   "cell_type": "code",
   "execution_count": 6,
   "metadata": {},
   "outputs": [
    {
     "name": "stdout",
     "output_type": "stream",
     "text": [
      "~/HDD/works/OpenSource/capsules/python-mnist/data ~/HDD/works/OpenSource/capsules/python-mnist\n",
      "~/HDD/works/OpenSource/capsules/python-mnist\n"
     ]
    },
    {
     "name": "stderr",
     "output_type": "stream",
     "text": [
      "Cloning into 'python-mnist'...\n",
      "--2019-12-12 17:52:14--  http://yann.lecun.com/exdb/mnist/\n",
      "Resolving yann.lecun.com (yann.lecun.com)... 216.165.22.6\n",
      "Connecting to yann.lecun.com (yann.lecun.com)|216.165.22.6|:80... connected.\n",
      "HTTP request sent, awaiting response... 200 OK\n",
      "Length: 29170 (28K) [text/html]\n",
      "Saving to: ‘data/index.html.tmp’\n",
      "\n",
      "     0K .......... .......... ........                        100% 82,0K=0,3s\n",
      "\n",
      "2019-12-12 17:52:20 (82,0 KB/s) - ‘data/index.html.tmp’ saved [29170/29170]\n",
      "\n",
      "Loading robots.txt; please ignore errors.\n",
      "--2019-12-12 17:52:20--  http://yann.lecun.com/robots.txt\n",
      "Reusing existing connection to yann.lecun.com:80.\n",
      "HTTP request sent, awaiting response... 404 Not Found\n",
      "2019-12-12 17:52:20 ERROR 404: Not Found.\n",
      "\n",
      "Removing data/index.html.tmp since it should be rejected.\n",
      "\n",
      "--2019-12-12 17:52:20--  http://yann.lecun.com/\n",
      "Reusing existing connection to yann.lecun.com:80.\n",
      "HTTP request sent, awaiting response... 200 OK\n",
      "Length: 38324 (37K) [text/html]\n",
      "Saving to: ‘data/index.html.tmp’\n",
      "\n",
      "     0K .......... .......... .......... .......              100% 35,3K=1,1s\n",
      "\n",
      "2019-12-12 17:52:22 (35,3 KB/s) - ‘data/index.html.tmp’ saved [38324/38324]\n",
      "\n",
      "Removing data/index.html.tmp since it should be rejected.\n",
      "\n",
      "--2019-12-12 17:52:22--  http://yann.lecun.com/exdb/mnist/train-images-idx3-ubyte.gz\n",
      "Reusing existing connection to yann.lecun.com:80.\n",
      "HTTP request sent, awaiting response... 200 OK\n",
      "Length: 9912422 (9,5M) [application/x-gzip]\n",
      "Saving to: ‘data/train-images-idx3-ubyte.gz’\n",
      "\n",
      "     0K .......... .......... .......... .......... ..........  0%  187K 51s\n",
      "    50K .......... .......... .......... .......... ..........  1%  460K 36s\n",
      "   100K .......... .......... .......... .......... ..........  1%  206K 39s\n",
      "   150K .......... .......... .......... .......... ..........  2%  366M 29s\n",
      "   200K .......... .......... .......... .......... ..........  2% 1,37M 25s\n",
      "   250K .......... .......... .......... .......... ..........  3% 1,18M 22s\n",
      "   300K .......... .......... .......... .......... ..........  3%  902K 20s\n",
      "   350K .......... .......... .......... .......... ..........  4% 1,17M 18s\n",
      "   400K .......... .......... .......... .......... ..........  4%  335K 19s\n",
      "   450K .......... .......... .......... .......... ..........  5%  424M 17s\n",
      "   500K .......... .......... .......... .......... ..........  5%  610K 17s\n",
      "   550K .......... .......... .......... .......... ..........  6% 11,5M 16s\n",
      "   600K .......... .......... .......... .......... ..........  6%  211M 14s\n",
      "   650K .......... .......... .......... .......... ..........  7%  900K 14s\n",
      "   700K .......... .......... .......... .......... ..........  7%  264M 13s\n",
      "   750K .......... .......... .......... .......... ..........  8%  318M 12s\n",
      "   800K .......... .......... .......... .......... ..........  8%  281M 11s\n",
      "   850K .......... .......... .......... .......... ..........  9%  340K 12s\n",
      "   900K .......... .......... .......... .......... ..........  9%  254M 11s\n",
      "   950K .......... .......... .......... .......... .......... 10%  376K 12s\n",
      "  1000K .......... .......... .......... .......... .......... 10%  226M 11s\n",
      "  1050K .......... .......... .......... .......... .......... 11%  295M 11s\n",
      "  1100K .......... .......... .......... .......... .......... 11%  299M 10s\n",
      "  1150K .......... .......... .......... .......... .......... 12%  330M 10s\n",
      "  1200K .......... .......... .......... .......... .......... 12%  292M 9s\n",
      "  1250K .......... .......... .......... .......... .......... 13%  326M 9s\n",
      "  1300K .......... .......... .......... .......... .......... 13%  325M 8s\n",
      "  1350K .......... .......... .......... .......... .......... 14%  346M 8s\n",
      "  1400K .......... .......... .......... .......... .......... 14%  302M 8s\n",
      "  1450K .......... .......... .......... .......... .......... 15%  339M 7s\n",
      "  1500K .......... .......... .......... .......... .......... 16%  190K 9s\n",
      "  1550K .......... .......... .......... .......... .......... 16%  245M 8s\n",
      "  1600K .......... .......... .......... .......... .......... 17%  334M 8s\n",
      "  1650K .......... .......... .......... .......... .......... 17%  304M 8s\n",
      "  1700K .......... .......... .......... .......... .......... 18%  353M 7s\n",
      "  1750K .......... .......... .......... .......... .......... 18%  350M 7s\n",
      "  1800K .......... .......... .......... .......... .......... 19%  356M 7s\n",
      "  1850K .......... .......... .......... .......... .......... 19%  254M 7s\n",
      "  1900K .......... .......... .......... .......... .......... 20%  262M 6s\n",
      "  1950K .......... .......... .......... .......... .......... 20%  339M 6s\n",
      "  2000K .......... .......... .......... .......... .......... 21%  327M 6s\n",
      "  2050K .......... .......... .......... .......... .......... 21%  308M 6s\n",
      "  2100K .......... .......... .......... .......... .......... 22%  354M 6s\n",
      "  2150K .......... .......... .......... .......... .......... 22%  360M 6s\n",
      "  2200K .......... .......... .......... .......... .......... 23%  354M 5s\n",
      "  2250K .......... .......... .......... .......... .......... 23%  302M 5s\n",
      "  2300K .......... .......... .......... .......... .......... 24%  353M 5s\n",
      "  2350K .......... .......... .......... .......... .......... 24%  231M 5s\n",
      "  2400K .......... .......... .......... .......... .......... 25%  342M 5s\n",
      "  2450K .......... .......... .......... .......... .......... 25%  180K 5s\n",
      "  2500K .......... .......... .......... .......... .......... 26%  315M 5s\n",
      "  2550K .......... .......... .......... .......... .......... 26%  336M 5s\n",
      "  2600K .......... .......... .......... .......... .......... 27%  335M 5s\n",
      "  2650K .......... .......... .......... .......... .......... 27%  281M 5s\n",
      "  2700K .......... .......... .......... .......... .......... 28%  325M 5s\n",
      "  2750K .......... .......... .......... .......... .......... 28%  331M 5s\n",
      "  2800K .......... .......... .......... .......... .......... 29%  333M 5s\n",
      "  2850K .......... .......... .......... .......... .......... 29%  291M 4s\n",
      "  2900K .......... .......... .......... .......... .......... 30%  132M 4s\n",
      "  2950K .......... .......... .......... .......... .......... 30%  276M 4s\n",
      "  3000K .......... .......... .......... .......... .......... 31%  331M 4s\n",
      "  3050K .......... .......... .......... .......... .......... 32%  334M 4s\n",
      "  3100K .......... .......... .......... .......... .......... 32%  333M 4s\n",
      "  3150K .......... .......... .......... .......... .......... 33%  281M 4s\n",
      "  3200K .......... .......... .......... .......... .......... 33%  381K 4s\n",
      "  3250K .......... .......... .......... .......... .......... 34%  328M 4s\n",
      "  3300K .......... .......... .......... .......... .......... 34% 3,43M 4s\n",
      "  3350K .......... .......... .......... .......... .......... 35%  340M 4s\n",
      "  3400K .......... .......... .......... .......... .......... 35% 22,8M 4s\n",
      "  3450K .......... .......... .......... .......... .......... 36% 14,2M 4s\n",
      "  3500K .......... .......... .......... .......... .......... 36%  342M 4s\n",
      "  3550K .......... .......... .......... .......... .......... 37% 8,14M 3s\n",
      "  3600K .......... .......... .......... .......... .......... 37%  321M 3s\n",
      "  3650K .......... .......... .......... .......... .......... 38%  284M 3s\n",
      "  3700K .......... .......... .......... .......... .......... 38%  305M 3s\n",
      "  3750K .......... .......... .......... .......... .......... 39%  333M 3s\n",
      "  3800K .......... .......... .......... .......... .......... 39% 3,19M 3s\n",
      "  3850K .......... .......... .......... .......... .......... 40%  326M 3s\n",
      "  3900K .......... .......... .......... .......... .......... 40%  284M 3s\n",
      "  3950K .......... .......... .......... .......... .......... 41%  322M 3s\n",
      "  4000K .......... .......... .......... .......... .......... 41%  545K 3s\n",
      "  4050K .......... .......... .......... .......... .......... 42% 7,68M 3s\n",
      "  4100K .......... .......... .......... .......... .......... 42%  373K 3s\n",
      "  4150K .......... .......... .......... .......... .......... 43%  337K 3s\n",
      "  4200K .......... .......... .......... .......... .......... 43%  408M 3s\n",
      "  4250K .......... .......... .......... .......... .......... 44%  446M 3s\n",
      "  4300K .......... .......... .......... .......... .......... 44%  396M 3s\n",
      "  4350K .......... .......... .......... .......... .......... 45%  456M 3s\n",
      "  4400K .......... .......... .......... .......... .......... 45%  433M 3s\n",
      "  4450K .......... .......... .......... .......... .......... 46%  408M 3s\n",
      "  4500K .......... .......... .......... .......... .......... 47%  374M 3s\n",
      "  4550K .......... .......... .......... .......... .......... 47%  442M 3s\n",
      "  4600K .......... .......... .......... .......... .......... 48%  430M 3s\n",
      "  4650K .......... .......... .......... .......... .......... 48%  440M 3s\n",
      "  4700K .......... .......... .......... .......... .......... 49%  366M 3s\n",
      "  4750K .......... .......... .......... .......... .......... 49%  432M 3s\n",
      "  4800K .......... .......... .......... .......... .......... 50%  435M 2s\n",
      "  4850K .......... .......... .......... .......... .......... 50%  432M 2s\n",
      "  4900K .......... .......... .......... .......... .......... 51%  376M 2s\n",
      "  4950K .......... .......... .......... .......... .......... 51%  409M 2s\n",
      "  5000K .......... .......... .......... .......... .......... 52%  438M 2s\n",
      "  5050K .......... .......... .......... .......... .......... 52% 1,47M 2s\n",
      "  5100K .......... .......... .......... .......... .......... 53%  358K 2s\n",
      "  5150K .......... .......... .......... .......... .......... 53%  419M 2s\n",
      "  5200K .......... .......... .......... .......... .......... 54%  437M 2s\n",
      "  5250K .......... .......... .......... .......... .......... 54%  455M 2s\n",
      "  5300K .......... .......... .......... .......... .......... 55%  393M 2s\n",
      "  5350K .......... .......... .......... .......... .......... 55%  428M 2s\n",
      "  5400K .......... .......... .......... .......... .......... 56%  434M 2s\n",
      "  5450K .......... .......... .......... .......... .......... 56%  422M 2s\n",
      "  5500K .......... .......... .......... .......... .......... 57%  365M 2s\n",
      "  5550K .......... .......... .......... .......... .......... 57%  437M 2s\n",
      "  5600K .......... .......... .......... .......... .......... 58%  397M 2s\n",
      "  5650K .......... .......... .......... .......... .......... 58%  439M 2s\n",
      "  5700K .......... .......... .......... .......... .......... 59%  148K 2s\n",
      "  5750K .......... .......... .......... .......... .......... 59%  421M 2s\n",
      "  5800K .......... .......... .......... .......... .......... 60% 2,78M 2s\n",
      "  5850K .......... .......... .......... .......... .......... 60% 3,57M 2s\n",
      "  5900K .......... .......... .......... .......... .......... 61% 2,82M 2s\n",
      "  5950K .......... .......... .......... .......... .......... 61%  308M 2s\n",
      "  6000K .......... .......... .......... .......... .......... 62%  442M 2s\n",
      "  6050K .......... .......... .......... .......... .......... 63%  453M 2s\n",
      "  6100K .......... .......... .......... .......... .......... 63%  467M 2s\n",
      "  6150K .......... .......... .......... .......... .......... 64%  375M 2s\n",
      "  6200K .......... .......... .......... .......... .......... 64% 1,15M 2s\n",
      "  6250K .......... .......... .......... .......... .......... 65% 2,19M 2s\n",
      "  6300K .......... .......... .......... .......... .......... 65%  245K 2s\n",
      "  6350K .......... .......... .......... .......... .......... 66%  422M 2s\n",
      "  6400K .......... .......... .......... .......... .......... 66%  451M 2s\n",
      "  6450K .......... .......... .......... .......... .......... 67%  459M 2s\n",
      "  6500K .......... .......... .......... .......... .......... 67%  362M 2s\n",
      "  6550K .......... .......... .......... .......... .......... 68%  422M 2s\n",
      "  6600K .......... .......... .......... .......... .......... 68%  442M 2s\n",
      "  6650K .......... .......... .......... .......... .......... 69%  437M 1s\n",
      "  6700K .......... .......... .......... .......... .......... 69%  356M 1s\n",
      "  6750K .......... .......... .......... .......... .......... 70%  425M 1s\n",
      "  6800K .......... .......... .......... .......... .......... 70%  410M 1s\n",
      "  6850K .......... .......... .......... .......... .......... 71%  433M 1s\n",
      "  6900K .......... .......... .......... .......... .......... 71%  378M 1s\n",
      "  6950K .......... .......... .......... .......... .......... 72%  423M 1s\n",
      "  7000K .......... .......... .......... .......... .......... 72%  435M 1s\n",
      "  7050K .......... .......... .......... .......... .......... 73%  444M 1s\n",
      "  7100K .......... .......... .......... .......... .......... 73%  381M 1s\n",
      "  7150K .......... .......... .......... .......... .......... 74%  439M 1s\n",
      "  7200K .......... .......... .......... .......... .......... 74%  350M 1s\n",
      "  7250K .......... .......... .......... .......... .......... 75%  747K 1s\n",
      "  7300K .......... .......... .......... .......... .......... 75%  260K 1s\n",
      "  7350K .......... .......... .......... .......... .......... 76%  348M 1s\n",
      "  7400K .......... .......... .......... .......... .......... 76%  356M 1s\n",
      "  7450K .......... .......... .......... .......... .......... 77%  427M 1s\n",
      "  7500K .......... .......... .......... .......... .......... 77% 9,43M 1s\n",
      "  7550K .......... .......... .......... .......... .......... 78% 15,1M 1s\n",
      "  7600K .......... .......... .......... .......... .......... 79%  442M 1s\n",
      "  7650K .......... .......... .......... .......... .......... 79%  387M 1s\n",
      "  7700K .......... .......... .......... .......... .......... 80%  433M 1s\n",
      "  7750K .......... .......... .......... .......... .......... 80%  444M 1s\n",
      "  7800K .......... .......... .......... .......... .......... 81%  439M 1s\n",
      "  7850K .......... .......... .......... .......... .......... 81%  207K 1s\n",
      "  7900K .......... .......... .......... .......... .......... 82%  317M 1s\n",
      "  7950K .......... .......... .......... .......... .......... 82% 2,81M 1s\n",
      "  8000K .......... .......... .......... .......... .......... 83%  290M 1s\n",
      "  8050K .......... .......... .......... .......... .......... 83% 3,68M 1s\n",
      "  8100K .......... .......... .......... .......... .......... 84% 9,19M 1s\n",
      "  8150K .......... .......... .......... .......... .......... 84%  365M 1s\n",
      "  8200K .......... .......... .......... .......... .......... 85%  433M 1s\n",
      "  8250K .......... .......... .......... .......... .......... 85%  409M 1s\n",
      "  8300K .......... .......... .......... .......... .......... 86% 1,56M 1s\n",
      "  8350K .......... .......... .......... .......... .......... 86%  424M 1s\n",
      "  8400K .......... .......... .......... .......... .......... 87%  367M 1s\n",
      "  8450K .......... .......... .......... .......... .......... 87%  439M 1s\n",
      "  8500K .......... .......... .......... .......... .......... 88% 74,3K 1s\n",
      "  8550K .......... .......... .......... .......... .......... 88%  320M 1s\n",
      "  8600K .......... .......... .......... .......... .......... 89%  415M 1s\n",
      "  8650K .......... .......... .......... .......... .......... 89%  452M 1s\n",
      "  8700K .......... .......... .......... .......... .......... 90%  380M 0s\n",
      "  8750K .......... .......... .......... .......... .......... 90%  439M 0s\n",
      "  8800K .......... .......... .......... .......... .......... 91%  418M 0s\n",
      "  8850K .......... .......... .......... .......... .......... 91%  431M 0s\n",
      "  8900K .......... .......... .......... .......... .......... 92%  365M 0s\n",
      "  8950K .......... .......... .......... .......... .......... 92%  432M 0s\n",
      "  9000K .......... .......... .......... .......... .......... 93%  430M 0s\n",
      "  9050K .......... .......... .......... .......... .......... 94%  420M 0s\n",
      "  9100K .......... .......... .......... .......... .......... 94%  363M 0s\n",
      "  9150K .......... .......... .......... .......... .......... 95%  435M 0s\n",
      "  9200K .......... .......... .......... .......... .......... 95%  432M 0s\n",
      "  9250K .......... .......... .......... .......... .......... 96%  408M 0s\n",
      "  9300K .......... .......... .......... .......... .......... 96%  265M 0s\n",
      "  9350K .......... .......... .......... .......... .......... 97%  340M 0s\n",
      "  9400K .......... .......... .......... .......... .......... 97%  331M 0s\n",
      "  9450K .......... .......... .......... .......... .......... 98%  339M 0s\n",
      "  9500K .......... .......... .......... .......... .......... 98%  297M 0s\n",
      "  9550K .......... .......... .......... .......... .......... 99%  335M 0s\n",
      "  9600K .......... .......... .......... .......... .......... 99% 96,0K 0s\n",
      "  9650K .......... .......... ..........                      100% 57,8K=5,6s\n",
      "\n",
      "2019-12-12 17:52:27 (1,69 MB/s) - ‘data/train-images-idx3-ubyte.gz’ saved [9912422/9912422]\n",
      "\n",
      "--2019-12-12 17:52:27--  http://yann.lecun.com/exdb/mnist/train-labels-idx1-ubyte.gz\n",
      "Reusing existing connection to yann.lecun.com:80.\n",
      "HTTP request sent, awaiting response... 200 OK\n",
      "Length: 28881 (28K) [application/x-gzip]\n",
      "Saving to: ‘data/train-labels-idx1-ubyte.gz’\n",
      "\n",
      "     0K .......... .......... ........                        100%  135K=0,2s\n",
      "\n",
      "2019-12-12 17:52:28 (135 KB/s) - ‘data/train-labels-idx1-ubyte.gz’ saved [28881/28881]\n",
      "\n",
      "--2019-12-12 17:52:28--  http://yann.lecun.com/exdb/mnist/t10k-images-idx3-ubyte.gz\n",
      "Reusing existing connection to yann.lecun.com:80.\n",
      "HTTP request sent, awaiting response... 200 OK\n",
      "Length: 1648877 (1,6M) [application/x-gzip]\n",
      "Saving to: ‘data/t10k-images-idx3-ubyte.gz’\n",
      "\n",
      "     0K .......... .......... .......... .......... ..........  3%  101K 15s\n",
      "    50K .......... .......... .......... .......... ..........  6%  393M 7s\n",
      "   100K .......... .......... .......... .......... ..........  9%  445M 5s\n",
      "   150K .......... .......... .......... .......... .......... 12%  394M 3s\n",
      "   200K .......... .......... .......... .......... .......... 15%  455M 3s\n",
      "   250K .......... .......... .......... .......... .......... 18%  119K 4s\n",
      "   300K .......... .......... .......... .......... .......... 21%  405M 3s\n",
      "   350K .......... .......... .......... .......... .......... 24%  424M 3s\n",
      "   400K .......... .......... .......... .......... .......... 27%  374M 2s\n",
      "   450K .......... .......... .......... .......... .......... 31%  434M 2s\n",
      "   500K .......... .......... .......... .......... .......... 34%  431M 2s\n",
      "   550K .......... .......... .......... .......... .......... 37%  422M 2s\n",
      "   600K .......... .......... .......... .......... .......... 40%  377M 1s\n",
      "   650K .......... .......... .......... .......... .......... 43%  437M 1s\n",
      "   700K .......... .......... .......... .......... .......... 46%  436M 1s\n",
      "   750K .......... .......... .......... .......... .......... 49%  425M 1s\n",
      "   800K .......... .......... .......... .......... .......... 52%  381M 1s\n",
      "   850K .......... .......... .......... .......... .......... 55%  436M 1s\n",
      "   900K .......... .......... .......... .......... .......... 58%  442M 1s\n",
      "   950K .......... .......... .......... .......... .......... 62%  433M 1s\n",
      "  1000K .......... .......... .......... .......... .......... 65%  369M 0s\n",
      "  1050K .......... .......... .......... .......... .......... 68%  435M 0s\n",
      "  1100K .......... .......... .......... .......... .......... 71%  427M 0s\n",
      "  1150K .......... .......... .......... .......... .......... 74%  430M 0s\n",
      "  1200K .......... .......... .......... .......... .......... 77%  367M 0s\n",
      "  1250K .......... .......... .......... .......... .......... 80%  436M 0s\n",
      "  1300K .......... .......... .......... .......... .......... 83%  434M 0s\n",
      "  1350K .......... .......... .......... .......... .......... 86%  424M 0s\n",
      "  1400K .......... .......... .......... .......... .......... 90%  375M 0s\n",
      "  1450K .......... .......... .......... .......... .......... 93% 81,6K 0s\n",
      "  1500K .......... .......... .......... .......... .......... 96%  394M 0s\n",
      "  1550K .......... .......... .......... .......... .......... 99%  240K 0s\n",
      "  1600K ..........                                            100%  353M=1,7s\n",
      "\n",
      "2019-12-12 17:52:30 (925 KB/s) - ‘data/t10k-images-idx3-ubyte.gz’ saved [1648877/1648877]\n",
      "\n",
      "--2019-12-12 17:52:30--  http://yann.lecun.com/exdb/mnist/t10k-labels-idx1-ubyte.gz\n",
      "Reusing existing connection to yann.lecun.com:80.\n",
      "HTTP request sent, awaiting response... 200 OK\n",
      "Length: 4542 (4,4K) [application/x-gzip]\n",
      "Saving to: ‘data/t10k-labels-idx1-ubyte.gz’\n",
      "\n",
      "     0K ....                                                  100% 1,07G=0s\n",
      "\n",
      "2019-12-12 17:52:31 (1,07 GB/s) - ‘data/t10k-labels-idx1-ubyte.gz’ saved [4542/4542]\n",
      "\n",
      "FINISHED --2019-12-12 17:52:31--\n",
      "Total wall clock time: 17s\n",
      "Downloaded: 6 files, 11M in 9,0s (1,24 MB/s)\n"
     ]
    }
   ],
   "source": [
    "%%bash\n",
    "git clone https://github.com/sorki/python-mnist.git\n",
    "cd python-mnist/\n",
    "./get_data.sh"
   ]
  },
  {
   "cell_type": "code",
   "execution_count": 6,
   "metadata": {},
   "outputs": [],
   "source": [
    "from mnist import MNIST\n",
    "mndata = MNIST('./python-mnist/data')\n",
    "images, labels = mndata.load_training()\n",
    "test_img, test_lab = mndata.load_testing()"
   ]
  },
  {
   "cell_type": "code",
   "execution_count": 7,
   "metadata": {},
   "outputs": [],
   "source": [
    "images = np.array(images)\n",
    "labels = np.array(labels)\n",
    "test_img = np.array(test_img)\n",
    "test_lab = np.array(test_lab)"
   ]
  },
  {
   "cell_type": "code",
   "execution_count": 8,
   "metadata": {},
   "outputs": [],
   "source": [
    "def iterate_minibatches(X, y, batchsize):\n",
    "    indices = np.random.permutation(np.arange(len(X)))\n",
    "    for start in range(0, len(indices), batchsize):\n",
    "        ix = indices[start: start + batchsize]\n",
    "        yield X[ix], y[ix]"
   ]
  },
  {
   "cell_type": "code",
   "execution_count": 9,
   "metadata": {},
   "outputs": [],
   "source": [
    "optimizer = Adam(\n",
    "    [\n",
    "        {'params': kcn.FE.parameters()},\n",
    "        {'params': kcn.GP.hyperparameters()},\n",
    "        {'params': kcn.GP.variational_parameters()},\n",
    "        {'params': likelihood.parameters()}\n",
    "    ]\n",
    ")"
   ]
  },
  {
   "cell_type": "markdown",
   "metadata": {},
   "source": [
    "### Training"
   ]
  },
  {
   "cell_type": "code",
   "execution_count": 10,
   "metadata": {
    "scrolled": true
   },
   "outputs": [
    {
     "name": "stdout",
     "output_type": "stream",
     "text": [
      "Epoch #0\n",
      "Minibatch 0 of 600\n",
      "Minibatch 100 of 600\n",
      "Minibatch 200 of 600\n",
      "Minibatch 300 of 600\n",
      "Minibatch 400 of 600\n",
      "Minibatch 500 of 600\n",
      "Training loss: 1.3044732\n",
      "Training in 0th epoch took 1.3647940436999002 minutes\n",
      "Testing minibatch 0 of 100\n"
     ]
    },
    {
     "ename": "AttributeError",
     "evalue": "'torch.dtype' object has no attribute 'type'",
     "output_type": "error",
     "traceback": [
      "\u001b[0;31m---------------------------------------------------------------------------\u001b[0m",
      "\u001b[0;31mAttributeError\u001b[0m                            Traceback (most recent call last)",
      "\u001b[0;32m<ipython-input-10-fad602394d75>\u001b[0m in \u001b[0;36m<module>\u001b[0;34m\u001b[0m\n\u001b[1;32m     48\u001b[0m                 \u001b[0;34m-\u001b[0m\u001b[0mmll\u001b[0m\u001b[0;34m(\u001b[0m\u001b[0mtest_output\u001b[0m\u001b[0;34m,\u001b[0m \u001b[0mtest_Y\u001b[0m\u001b[0;34m)\u001b[0m\u001b[0;34m\u001b[0m\u001b[0;34m\u001b[0m\u001b[0m\n\u001b[1;32m     49\u001b[0m             )\n\u001b[0;32m---> 50\u001b[0;31m         \u001b[0mtesting_loss\u001b[0m\u001b[0;34m.\u001b[0m\u001b[0mappend\u001b[0m\u001b[0;34m(\u001b[0m\u001b[0mnp\u001b[0m\u001b[0;34m.\u001b[0m\u001b[0mmean\u001b[0m\u001b[0;34m(\u001b[0m\u001b[0mrunning_test_loss\u001b[0m\u001b[0;34m)\u001b[0m\u001b[0;34m)\u001b[0m\u001b[0;34m\u001b[0m\u001b[0;34m\u001b[0m\u001b[0m\n\u001b[0m\u001b[1;32m     51\u001b[0m         \u001b[0mprint\u001b[0m\u001b[0;34m(\u001b[0m\u001b[0;34m\"Testing loss: \"\u001b[0m\u001b[0;34m+\u001b[0m\u001b[0mstr\u001b[0m\u001b[0;34m(\u001b[0m\u001b[0mtesting_loss\u001b[0m\u001b[0;34m[\u001b[0m\u001b[0;34m-\u001b[0m\u001b[0;36m1\u001b[0m\u001b[0;34m]\u001b[0m\u001b[0;34m)\u001b[0m\u001b[0;34m)\u001b[0m\u001b[0;34m\u001b[0m\u001b[0;34m\u001b[0m\u001b[0m\n\u001b[1;32m     52\u001b[0m         \u001b[0mprint\u001b[0m\u001b[0;34m(\u001b[0m\u001b[0mstr\u001b[0m\u001b[0;34m(\u001b[0m\u001b[0mepoch\u001b[0m\u001b[0;34m)\u001b[0m\u001b[0;34m+\u001b[0m\u001b[0;34m\"th epoch took \"\u001b[0m\u001b[0;34m+\u001b[0m\u001b[0mstr\u001b[0m\u001b[0;34m(\u001b[0m\u001b[0;34m(\u001b[0m\u001b[0mtime\u001b[0m\u001b[0;34m(\u001b[0m\u001b[0;34m)\u001b[0m \u001b[0;34m-\u001b[0m \u001b[0mepoch_time\u001b[0m\u001b[0;34m)\u001b[0m\u001b[0;34m/\u001b[0m\u001b[0;36m60\u001b[0m\u001b[0;34m)\u001b[0m \u001b[0;34m+\u001b[0m \u001b[0;34m\" minutes\"\u001b[0m\u001b[0;34m)\u001b[0m\u001b[0;34m\u001b[0m\u001b[0;34m\u001b[0m\u001b[0m\n",
      "\u001b[0;32m<__array_function__ internals>\u001b[0m in \u001b[0;36mmean\u001b[0;34m(*args, **kwargs)\u001b[0m\n",
      "\u001b[0;32m~/anaconda3/envs/lapki/lib/python3.7/site-packages/numpy/core/fromnumeric.py\u001b[0m in \u001b[0;36mmean\u001b[0;34m(a, axis, dtype, out, keepdims)\u001b[0m\n\u001b[1;32m   3255\u001b[0m \u001b[0;34m\u001b[0m\u001b[0m\n\u001b[1;32m   3256\u001b[0m     return _methods._mean(a, axis=axis, dtype=dtype,\n\u001b[0;32m-> 3257\u001b[0;31m                           out=out, **kwargs)\n\u001b[0m\u001b[1;32m   3258\u001b[0m \u001b[0;34m\u001b[0m\u001b[0m\n\u001b[1;32m   3259\u001b[0m \u001b[0;34m\u001b[0m\u001b[0m\n",
      "\u001b[0;32m~/anaconda3/envs/lapki/lib/python3.7/site-packages/numpy/core/_methods.py\u001b[0m in \u001b[0;36m_mean\u001b[0;34m(a, axis, dtype, out, keepdims)\u001b[0m\n\u001b[1;32m    159\u001b[0m             \u001b[0mret\u001b[0m \u001b[0;34m=\u001b[0m \u001b[0marr\u001b[0m\u001b[0;34m.\u001b[0m\u001b[0mdtype\u001b[0m\u001b[0;34m.\u001b[0m\u001b[0mtype\u001b[0m\u001b[0;34m(\u001b[0m\u001b[0mret\u001b[0m \u001b[0;34m/\u001b[0m \u001b[0mrcount\u001b[0m\u001b[0;34m)\u001b[0m\u001b[0;34m\u001b[0m\u001b[0;34m\u001b[0m\u001b[0m\n\u001b[1;32m    160\u001b[0m         \u001b[0;32melse\u001b[0m\u001b[0;34m:\u001b[0m\u001b[0;34m\u001b[0m\u001b[0;34m\u001b[0m\u001b[0m\n\u001b[0;32m--> 161\u001b[0;31m             \u001b[0mret\u001b[0m \u001b[0;34m=\u001b[0m \u001b[0mret\u001b[0m\u001b[0;34m.\u001b[0m\u001b[0mdtype\u001b[0m\u001b[0;34m.\u001b[0m\u001b[0mtype\u001b[0m\u001b[0;34m(\u001b[0m\u001b[0mret\u001b[0m \u001b[0;34m/\u001b[0m \u001b[0mrcount\u001b[0m\u001b[0;34m)\u001b[0m\u001b[0;34m\u001b[0m\u001b[0;34m\u001b[0m\u001b[0m\n\u001b[0m\u001b[1;32m    162\u001b[0m     \u001b[0;32melse\u001b[0m\u001b[0;34m:\u001b[0m\u001b[0;34m\u001b[0m\u001b[0;34m\u001b[0m\u001b[0m\n\u001b[1;32m    163\u001b[0m         \u001b[0mret\u001b[0m \u001b[0;34m=\u001b[0m \u001b[0mret\u001b[0m \u001b[0;34m/\u001b[0m \u001b[0mrcount\u001b[0m\u001b[0;34m\u001b[0m\u001b[0;34m\u001b[0m\u001b[0m\n",
      "\u001b[0;31mAttributeError\u001b[0m: 'torch.dtype' object has no attribute 'type'"
     ]
    }
   ],
   "source": [
    "training_loss = []\n",
    "testing_loss = []\n",
    "start_time = time()\n",
    "n_epochs = 10\n",
    "for epoch in range(10):\n",
    "    print(\"Epoch #\"+str(epoch))\n",
    "    kcn.train()\n",
    "    likelihood.train()\n",
    "    running_loss = []\n",
    "    i = 0\n",
    "    epoch_time = time()\n",
    "    for batch_X, batch_y in iterate_minibatches(images, labels, 100):\n",
    "        if i % 100 == 0:\n",
    "            print(\"Minibatch \"+str(i)+\" of \"+str(round(images.shape[0]/100)))\n",
    "        i += 1\n",
    "        optimizer.zero_grad()\n",
    "        inp = Variable(\n",
    "            torch.from_numpy(batch_X.reshape(batch_X.shape[0],1,28,28)/255.0).type(torch.FloatTensor)\n",
    "        ).cuda()\n",
    "        real_class = Variable(\n",
    "            torch.from_numpy(batch_y).type(torch.LongTensor).cuda()#, 10)\n",
    "        )\n",
    "        output = kcn(inp)\n",
    "        loss = -mll(output, real_class)\n",
    "        loss.backward()\n",
    "        optimizer.step()\n",
    "        running_loss.append(loss.cpu().data.numpy())\n",
    "    training_loss.append(np.mean(running_loss))\n",
    "    print(\"Training loss: \"+str(training_loss[-1]))\n",
    "    print(\"Training in \"+str(epoch)+\"th epoch took \"+str((time() - epoch_time)/60) + \" minutes\")\n",
    "    cn.eval()\n",
    "    likelihood.eval()\n",
    "    running_test_loss = []\n",
    "    i = 0\n",
    "    with torch.no_grad(), gpytorch.settings.num_likelihood_samples(16):\n",
    "        for batch_X, batch_y in iterate_minibatches(test_img, test_lab, 100):\n",
    "            if i % 100 == 0:\n",
    "                print(\"Testing minibatch \"+str(i)+\" of \"+str(round(test_img.shape[0]/100)))\n",
    "            i += 1\n",
    "            test_X = Variable(\n",
    "                torch.from_numpy(batch_X.reshape(batch_X.shape[0],1,28,28)/255.0).type(torch.FloatTensor)\n",
    "            ).cuda()\n",
    "            test_Y = Variable(\n",
    "                torch.from_numpy(batch_y).type(torch.LongTensor).cuda()#, 10)\n",
    "            )\n",
    "            test_output = kcn(test_X)\n",
    "            running_test_loss.append(\n",
    "                -mll(test_output, test_Y)\n",
    "            )\n",
    "        testing_loss.append(np.mean(running_test_loss))\n",
    "        print(\"Testing loss: \"+str(testing_loss[-1]))\n",
    "        print(str(epoch)+\"th epoch took \"+str((time() - epoch_time)/60) + \" minutes\")\n",
    "print(\"All epochs took \"+str((time() - start_time)/60) + \" minutes\")"
   ]
  },
  {
   "cell_type": "code",
   "execution_count": 15,
   "metadata": {},
   "outputs": [
    {
     "data": {
      "text/plain": [
       "Text(0.5, 1.0, 'Accuracy')"
      ]
     },
     "execution_count": 15,
     "metadata": {},
     "output_type": "execute_result"
    },
    {
     "data": {
      "image/png": "[encoded data removed]",
      "text/plain": [
       "<Figure size 432x288 with 2 Axes>"
      ]
     },
     "metadata": {
      "needs_background": "light"
     },
     "output_type": "display_data"
    }
   ],
   "source": [
    "plt.subplot(1,2,1)\n",
    "plt.plot(training_loss)\n",
    "plt.plot(testing_loss)\n",
    "plt.grid(True)\n",
    "plt.title(\"Loss\")\n",
    "plt.subplot(1,2,2)\n",
    "plt.plot(training_accuracy)\n",
    "plt.plot(testing_accuracy)\n",
    "plt.grid(True)\n",
    "plt.title(\"Accuracy\")"
   ]
  },
  {
   "cell_type": "code",
   "execution_count": 16,
   "metadata": {},
   "outputs": [],
   "source": [
    "kcn.eval()\n",
    "random_sample = test_img[np.random.choice(range(test_img.shape[0]), 2)]"
   ]
  },
  {
   "cell_type": "code",
   "execution_count": 17,
   "metadata": {},
   "outputs": [
    {
     "data": {
      "text/plain": [
       "<matplotlib.image.AxesImage at 0x7fe8e65432d0>"
      ]
     },
     "execution_count": 17,
     "metadata": {},
     "output_type": "execute_result"
    },
    {
     "data": {
      "image/png": "[encoded data removed]",
      "text/plain": [
       "<Figure size 432x288 with 2 Axes>"
      ]
     },
     "metadata": {
      "needs_background": "light"
     },
     "output_type": "display_data"
    }
   ],
   "source": [
    "plt.subplot(1,2,1)\n",
    "plt.imshow(random_sample[0].reshape(28,28))\n",
    "plt.subplot(1,2,2)\n",
    "plt.imshow(random_sample[1].reshape(28,28))"
   ]
  },
  {
   "cell_type": "code",
   "execution_count": 19,
   "metadata": {},
   "outputs": [],
   "source": [
    "rnd = torch.from_numpy(random_sample).type(torch.FloatTensor).cuda()"
   ]
  },
  {
   "cell_type": "code",
   "execution_count": 21,
   "metadata": {},
   "outputs": [],
   "source": [
    "output = likelihood(kcn(rnd.reshape(2,1,28,28)))\n",
    "pred = output.probs.mean(0).argmax(-1)            "
   ]
  },
  {
   "cell_type": "code",
   "execution_count": 22,
   "metadata": {},
   "outputs": [
    {
     "data": {
      "text/plain": [
       "tensor([9, 8], device='cuda:0')"
      ]
     },
     "execution_count": 22,
     "metadata": {},
     "output_type": "execute_result"
    }
   ],
   "source": [
    "pred"
   ]
  },
  {
   "cell_type": "code",
   "execution_count": 27,
   "metadata": {},
   "outputs": [],
   "source": [
    "_,rec,_,cl = cn(rnd.reshape(2,1,28,28))"
   ]
  },
  {
   "cell_type": "code",
   "execution_count": 29,
   "metadata": {},
   "outputs": [],
   "source": [
    "rec = rec.cpu().data.numpy()"
   ]
  },
  {
   "cell_type": "code",
   "execution_count": 30,
   "metadata": {},
   "outputs": [
    {
     "data": {
      "text/plain": [
       "<matplotlib.image.AxesImage at 0x7fe8b6152090>"
      ]
     },
     "execution_count": 30,
     "metadata": {},
     "output_type": "execute_result"
    },
    {
     "data": {
      "image/png": "[encoded data removed]",
      "text/plain": [
       "<Figure size 432x288 with 2 Axes>"
      ]
     },
     "metadata": {
      "needs_background": "light"
     },
     "output_type": "display_data"
    }
   ],
   "source": [
    "plt.subplot(1,2,1)\n",
    "plt.imshow(rec[0].reshape(28,28))\n",
    "plt.subplot(1,2,2)\n",
    "plt.imshow(rec[1].reshape(28,28))"
   ]
  }
 ],
 "metadata": {
  "kernelspec": {
   "display_name": "Python 3",
   "language": "python",
   "name": "python3"
  },
  "language_info": {
   "codemirror_mode": {
    "name": "ipython",
    "version": 3
   },
   "file_extension": ".py",
   "mimetype": "text/x-python",
   "name": "python",
   "nbconvert_exporter": "python",
   "pygments_lexer": "ipython3",
   "version": "3.7.5"
  }
 },
 "nbformat": 4,
 "nbformat_minor": 2
}
