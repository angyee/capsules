{
 "cells": [
  {
   "cell_type": "code",
   "execution_count": 1,
   "metadata": {},
   "outputs": [],
   "source": [
    "import torch\n",
    "import numpy as np\n",
    "from torch import nn\n",
    "from time import time\n",
    "from capsules import *\n",
    "from torch.optim import Adam\n",
    "import torch.nn.functional as F\n",
    "import matplotlib.pyplot as plt\n",
    "from torch.autograd import Variable\n",
    "from sklearn.metrics import accuracy_score"
   ]
  },
  {
   "cell_type": "code",
   "execution_count": 3,
   "metadata": {},
   "outputs": [],
   "source": [
    "class CapsNet4MNIST(nn.Module):\n",
    "    \n",
    "    def __init__(self):\n",
    "        super(CapsNet4MNIST, self).__init__()\n",
    "        self.conv = nn.Sequential(\n",
    "            nn.Conv2d(\n",
    "                in_channels=1,\n",
    "                out_channels=256,\n",
    "                kernel_size=9,\n",
    "                stride=1\n",
    "            ),\n",
    "            nn.ReLU(inplace=True)\n",
    "        )\n",
    "        self.primcaps = PrimaryCapsuleLayer()\n",
    "        self.digicaps = SecondaryCapsuleLayer()\n",
    "        self.decoder = RegularizingDecoder()\n",
    "        \n",
    "    def forward(self, x):\n",
    "        \"\"\"Compute forward of capsules, get the longest vectors, reconstruct the pictures\"\"\"\n",
    "        internal = self.digicaps(self.primcaps(self.conv(x)))\n",
    "        lengths = find_probability(internal)\n",
    "        _, max_caps_index = lengths.max(dim=-1)\n",
    "        max_caps = torch.stack(\n",
    "            [get_a_capsule(internal, a, b) for a,b in enumerate(max_caps_index)]\n",
    "        )\n",
    "        reconstruction = self.decoder(max_caps)\n",
    "        return(internal, reconstruction, max_caps_index)"
   ]
  },
  {
   "cell_type": "code",
   "execution_count": 5,
   "metadata": {},
   "outputs": [],
   "source": [
    "cn = CapsNet4MNIST().cuda()\n",
    "optimizer = Adam(cn.parameters())\n",
    "capsule_loss = CapsuleLoss().cuda()"
   ]
  },
  {
   "cell_type": "code",
   "execution_count": 6,
   "metadata": {},
   "outputs": [
    {
     "name": "stdout",
     "output_type": "stream",
     "text": [
      "data directory already present, exiting\n"
     ]
    },
    {
     "name": "stderr",
     "output_type": "stream",
     "text": [
      "fatal: destination path 'python-mnist' already exists and is not an empty directory.\n"
     ]
    }
   ],
   "source": [
    "%%bash\n",
    "git clone https://github.com/sorki/python-mnist.git\n",
    "cd python-mnist/\n",
    "./get_data.sh"
   ]
  },
  {
   "cell_type": "code",
   "execution_count": 7,
   "metadata": {},
   "outputs": [],
   "source": [
    "from mnist import MNIST\n",
    "mndata = MNIST('./python-mnist/data')\n",
    "images, labels = mndata.load_training()\n",
    "test_img, test_lab = mndata.load_testing()"
   ]
  },
  {
   "cell_type": "code",
   "execution_count": 8,
   "metadata": {},
   "outputs": [],
   "source": [
    "images = np.array(images)\n",
    "labels = np.array(labels)\n",
    "test_img = np.array(test_img)\n",
    "test_lab = np.array(test_lab)"
   ]
  },
  {
   "cell_type": "code",
   "execution_count": 9,
   "metadata": {},
   "outputs": [],
   "source": [
    "def iterate_minibatches(X, y, batchsize):\n",
    "    indices = np.random.permutation(np.arange(len(X)))\n",
    "    for start in range(0, len(indices), batchsize):\n",
    "        ix = indices[start: start + batchsize]\n",
    "        yield X[ix], y[ix]"
   ]
  },
  {
   "cell_type": "code",
   "execution_count": 10,
   "metadata": {
    "scrolled": true
   },
   "outputs": [
    {
     "name": "stdout",
     "output_type": "stream",
     "text": [
      "Epoch #0\n",
      "Minibatch 0 of 600\n",
      "Minibatch 100 of 600\n",
      "Minibatch 200 of 600\n",
      "Minibatch 300 of 600\n",
      "Minibatch 400 of 600\n",
      "Minibatch 500 of 600\n",
      "Training loss: 0.7771286\n",
      "Training accuracy: 0.3481\n",
      "Training in 0th epoch took 7.381724643707275 minutes\n",
      "Testing minibatch 0 of 100\n",
      "Testing loss: 0.69051737\n",
      "Testing accuracy: 0.49029999999999996\n",
      "0th epoch took 7.763855520884196 minutes\n",
      "Epoch #1\n",
      "Minibatch 0 of 600\n",
      "Minibatch 100 of 600\n",
      "Minibatch 200 of 600\n",
      "Minibatch 300 of 600\n",
      "Minibatch 400 of 600\n",
      "Minibatch 500 of 600\n",
      "Training loss: 0.53729045\n",
      "Training accuracy: 0.6430166666666667\n",
      "Training in 1th epoch took 7.298186536629995 minutes\n",
      "Testing minibatch 0 of 100\n",
      "Testing loss: 0.2895898\n",
      "Testing accuracy: 0.8201999999999999\n",
      "1th epoch took 7.689721500873565 minutes\n",
      "Epoch #2\n",
      "Minibatch 0 of 600\n",
      "Minibatch 100 of 600\n",
      "Minibatch 200 of 600\n",
      "Minibatch 300 of 600\n",
      "Minibatch 400 of 600\n",
      "Minibatch 500 of 600\n",
      "Training loss: 0.13487282\n",
      "Training accuracy: 0.9493500000000002\n",
      "Training in 2th epoch took 7.323831303914388 minutes\n",
      "Testing minibatch 0 of 100\n",
      "Testing loss: 0.035748594\n",
      "Testing accuracy: 0.9879000000000002\n",
      "2th epoch took 7.727412792046865 minutes\n",
      "Epoch #3\n",
      "Minibatch 0 of 600\n",
      "Minibatch 100 of 600\n",
      "Minibatch 200 of 600\n",
      "Minibatch 300 of 600\n",
      "Minibatch 400 of 600\n",
      "Minibatch 500 of 600\n",
      "Training loss: 0.028083058\n",
      "Training accuracy: 0.9889500000000002\n",
      "Training in 3th epoch took 7.336923595269521 minutes\n",
      "Testing minibatch 0 of 100\n",
      "Testing loss: 0.024527645\n",
      "Testing accuracy: 0.9886000000000001\n",
      "3th epoch took 7.7265864610672 minutes\n",
      "Epoch #4\n",
      "Minibatch 0 of 600\n",
      "Minibatch 100 of 600\n",
      "Minibatch 200 of 600\n",
      "Minibatch 300 of 600\n",
      "Minibatch 400 of 600\n",
      "Minibatch 500 of 600\n",
      "Training loss: 0.019399697\n",
      "Training accuracy: 0.9923833333333334\n",
      "Training in 4th epoch took 7.314363531271616 minutes\n",
      "Testing minibatch 0 of 100\n",
      "Testing loss: 0.022139309\n",
      "Testing accuracy: 0.9894\n",
      "4th epoch took 7.701618536313375 minutes\n",
      "Epoch #5\n",
      "Minibatch 0 of 600\n",
      "Minibatch 100 of 600\n",
      "Minibatch 200 of 600\n",
      "Minibatch 300 of 600\n",
      "Minibatch 400 of 600\n",
      "Minibatch 500 of 600\n",
      "Training loss: 0.014735629\n",
      "Training accuracy: 0.9942666666666665\n",
      "Training in 5th epoch took 7.311490253607432 minutes\n",
      "Testing minibatch 0 of 100\n",
      "Testing loss: 0.018847661\n",
      "Testing accuracy: 0.9914000000000001\n",
      "5th epoch took 7.695267180601756 minutes\n",
      "Epoch #6\n",
      "Minibatch 0 of 600\n",
      "Minibatch 100 of 600\n",
      "Minibatch 200 of 600\n",
      "Minibatch 300 of 600\n",
      "Minibatch 400 of 600\n",
      "Minibatch 500 of 600\n",
      "Training loss: 0.011612444\n",
      "Training accuracy: 0.9959666666666668\n",
      "Training in 6th epoch took 7.311402142047882 minutes\n",
      "Testing minibatch 0 of 100\n",
      "Testing loss: 0.016732736\n",
      "Testing accuracy: 0.9914000000000002\n",
      "6th epoch took 7.695207659403483 minutes\n",
      "Epoch #7\n",
      "Minibatch 0 of 600\n",
      "Minibatch 100 of 600\n",
      "Minibatch 200 of 600\n",
      "Minibatch 300 of 600\n",
      "Minibatch 400 of 600\n",
      "Minibatch 500 of 600\n",
      "Training loss: 0.009150556\n",
      "Training accuracy: 0.9967499999999999\n",
      "Training in 7th epoch took 7.311178159713745 minutes\n",
      "Testing minibatch 0 of 100\n",
      "Testing loss: 0.017448667\n",
      "Testing accuracy: 0.9913\n",
      "7th epoch took 7.695053696632385 minutes\n",
      "Epoch #8\n",
      "Minibatch 0 of 600\n",
      "Minibatch 100 of 600\n",
      "Minibatch 200 of 600\n",
      "Minibatch 300 of 600\n",
      "Minibatch 400 of 600\n",
      "Minibatch 500 of 600\n",
      "Training loss: 0.007935257\n",
      "Training accuracy: 0.9971166666666667\n",
      "Training in 8th epoch took 7.3115389506022135 minutes\n",
      "Testing minibatch 0 of 100\n",
      "Testing loss: 0.015194272\n",
      "Testing accuracy: 0.9926999999999998\n",
      "8th epoch took 7.695364360014597 minutes\n",
      "Epoch #9\n",
      "Minibatch 0 of 600\n",
      "Minibatch 100 of 600\n",
      "Minibatch 200 of 600\n",
      "Minibatch 300 of 600\n",
      "Minibatch 400 of 600\n",
      "Minibatch 500 of 600\n",
      "Training loss: 0.0061075287\n",
      "Training accuracy: 0.9978000000000001\n",
      "Training in 9th epoch took 7.3528220375378925 minutes\n",
      "Testing minibatch 0 of 100\n",
      "Testing loss: 0.015288781\n",
      "Testing accuracy: 0.9915999999999999\n",
      "9th epoch took 7.736864268779755 minutes\n",
      "All epochs took 77.12704044977824 minutes\n"
     ]
    }
   ],
   "source": [
    "training_loss = []\n",
    "training_accuracy = []\n",
    "testing_loss = []\n",
    "testing_accuracy = []\n",
    "start_time = time()\n",
    "n_epochs = 10\n",
    "for epoch in range(10):\n",
    "    print(\"Epoch #\"+str(epoch))\n",
    "    cn.train()\n",
    "    running_loss = []\n",
    "    running_accuracy = []\n",
    "    i = 0\n",
    "    epoch_time = time()\n",
    "    for batch_X, batch_y in iterate_minibatches(images, labels, 100):\n",
    "        if i % 100 == 0:\n",
    "            print(\"Minibatch \"+str(i)+\" of \"+str(round(images.shape[0]/100)))\n",
    "        i += 1\n",
    "        optimizer.zero_grad()\n",
    "        inp = Variable(\n",
    "            torch.from_numpy(batch_X.reshape(batch_X.shape[0],1,28,28)/255.0).type(torch.FloatTensor)\n",
    "        ).cuda()\n",
    "        real_class = Variable(\n",
    "            torch.from_numpy(batch_y).type(torch.LongTensor)\n",
    "        ).cuda()\n",
    "        internal, reconstruction, classes = cn(inp)\n",
    "        loss = capsule_loss(internal, inp.view(inp.size(0), 28*28), real_class, reconstruction)\n",
    "        loss.backward()\n",
    "        optimizer.step()\n",
    "        running_loss.append(loss.cpu().data.numpy())\n",
    "        running_accuracy.append(\n",
    "            accuracy_score(classes.cpu().data.numpy(), batch_y)\n",
    "        )\n",
    "    training_loss.append(np.mean(running_loss))\n",
    "    training_accuracy.append(np.mean(running_accuracy))\n",
    "    print(\"Training loss: \"+str(training_loss[-1]))\n",
    "    print(\"Training accuracy: \"+str(training_accuracy[-1]))\n",
    "    print(\"Training in \"+str(epoch)+\"th epoch took \"+str((time() - epoch_time)/60) + \" minutes\")\n",
    "    cn.eval()\n",
    "    running_test_loss = []\n",
    "    running_test_accuracy = []\n",
    "    i = 0\n",
    "    for batch_X, batch_y in iterate_minibatches(test_img, test_lab, 100):\n",
    "        if i % 100 == 0:\n",
    "            print(\"Testing minibatch \"+str(i)+\" of \"+str(round(test_img.shape[0]/100)))\n",
    "        i += 1\n",
    "        test_X = Variable(\n",
    "            torch.from_numpy(batch_X.reshape(batch_X.shape[0],1,28,28)/255.0).type(torch.FloatTensor)\n",
    "        ).cuda()\n",
    "        test_Y = Variable(\n",
    "            torch.from_numpy(batch_y).type(torch.LongTensor)\n",
    "        ).cuda()\n",
    "        test_internal, test_reconstruction, test_classes = cn(test_X)\n",
    "        running_test_loss.append(\n",
    "            capsule_loss(\n",
    "                test_internal, test_X.reshape(test_X.size(0), 28*28), \n",
    "                test_Y, test_reconstruction\n",
    "            ).cpu().data.numpy()\n",
    "        )\n",
    "        running_test_accuracy.append(\n",
    "            accuracy_score(test_classes.cpu().data.numpy(), batch_y)\n",
    "        )\n",
    "    testing_loss.append(np.mean(running_test_loss))\n",
    "    testing_accuracy.append(np.mean(running_test_accuracy))\n",
    "    print(\"Testing loss: \"+str(testing_loss[-1]))\n",
    "    print(\"Testing accuracy: \"+str(testing_accuracy[-1]))\n",
    "    print(str(epoch)+\"th epoch took \"+str((time() - epoch_time)/60) + \" minutes\")\n",
    "print(\"All epochs took \"+str((time() - start_time)/60) + \" minutes\")"
   ]
  },
  {
   "cell_type": "code",
   "execution_count": 21,
   "metadata": {},
   "outputs": [
    {
     "data": {
      "text/plain": [
       "Text(0.5,1,'Accuracy')"
      ]
     },
     "execution_count": 21,
     "metadata": {},
     "output_type": "execute_result"
    },
    {
     "data": {
      "image/png": "[encoded data removed]",
      "text/plain": [
       "<matplotlib.figure.Figure at 0x7fd508ee9dd8>"
      ]
     },
     "metadata": {},
     "output_type": "display_data"
    }
   ],
   "source": [
    "plt.subplot(1,2,1)\n",
    "plt.plot(training_loss)\n",
    "plt.plot(testing_loss)\n",
    "plt.grid(True)\n",
    "plt.title(\"Loss\")\n",
    "plt.subplot(1,2,2)\n",
    "plt.plot(training_accuracy)\n",
    "plt.plot(testing_accuracy)\n",
    "plt.grid(True)\n",
    "plt.title(\"Accuracy\")"
   ]
  },
  {
   "cell_type": "code",
   "execution_count": 22,
   "metadata": {},
   "outputs": [],
   "source": [
    "torch.save(cn.state_dict(), \"mnist_capsule.ptch\")"
   ]
  },
  {
   "cell_type": "code",
   "execution_count": 39,
   "metadata": {},
   "outputs": [],
   "source": [
    "cn.eval()\n",
    "random_sample = test_img[np.random.choice(range(test_img.shape[0]), 2)]"
   ]
  },
  {
   "cell_type": "code",
   "execution_count": 40,
   "metadata": {},
   "outputs": [
    {
     "data": {
      "text/plain": [
       "<matplotlib.image.AxesImage at 0x7fd508901588>"
      ]
     },
     "execution_count": 40,
     "metadata": {},
     "output_type": "execute_result"
    },
    {
     "data": {
      "image/png": "[encoded data removed]",
      "text/plain": [
       "<matplotlib.figure.Figure at 0x7fd5089c1780>"
      ]
     },
     "metadata": {},
     "output_type": "display_data"
    }
   ],
   "source": [
    "plt.subplot(1,2,1)\n",
    "plt.imshow(random_sample[0].reshape(28,28))\n",
    "plt.subplot(1,2,2)\n",
    "plt.imshow(random_sample[1].reshape(28,28))"
   ]
  },
  {
   "cell_type": "code",
   "execution_count": 41,
   "metadata": {},
   "outputs": [],
   "source": [
    "_,rec,cl = cn(Variable(torch.from_numpy(random_sample.reshape(2,1,28,28)/255).type(torch.FloatTensor)).cuda())"
   ]
  },
  {
   "cell_type": "code",
   "execution_count": 42,
   "metadata": {},
   "outputs": [
    {
     "data": {
      "text/plain": [
       "tensor([ 1,  3], device='cuda:0')"
      ]
     },
     "execution_count": 42,
     "metadata": {},
     "output_type": "execute_result"
    }
   ],
   "source": [
    "cl"
   ]
  },
  {
   "cell_type": "code",
   "execution_count": 43,
   "metadata": {},
   "outputs": [],
   "source": [
    "rec = rec.cpu().data.numpy()"
   ]
  },
  {
   "cell_type": "code",
   "execution_count": 44,
   "metadata": {},
   "outputs": [
    {
     "data": {
      "text/plain": [
       "<matplotlib.image.AxesImage at 0x7fd508828748>"
      ]
     },
     "execution_count": 44,
     "metadata": {},
     "output_type": "execute_result"
    },
    {
     "data": {
      "image/png": "[encoded data removed]",
      "text/plain": [
       "<matplotlib.figure.Figure at 0x7fd5088e0898>"
      ]
     },
     "metadata": {},
     "output_type": "display_data"
    }
   ],
   "source": [
    "plt.subplot(1,2,1)\n",
    "plt.imshow(rec[0].reshape(28,28))\n",
    "plt.subplot(1,2,2)\n",
    "plt.imshow(rec[1].reshape(28,28))"
   ]
  }
 ],
 "metadata": {
  "kernelspec": {
   "display_name": "Python 3",
   "language": "python",
   "name": "python3"
  },
  "language_info": {
   "codemirror_mode": {
    "name": "ipython",
    "version": 3
   },
   "file_extension": ".py",
   "mimetype": "text/x-python",
   "name": "python",
   "nbconvert_exporter": "python",
   "pygments_lexer": "ipython3",
   "version": "3.6.4"
  }
 },
 "nbformat": 4,
 "nbformat_minor": 2
}
